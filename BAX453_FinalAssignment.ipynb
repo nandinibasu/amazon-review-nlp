{
 "cells": [
  {
   "cell_type": "markdown",
   "metadata": {},
   "source": [
    "# Part B."
   ]
  },
  {
   "cell_type": "markdown",
   "metadata": {},
   "source": [
    "### Importing packages"
   ]
  },
  {
   "cell_type": "code",
   "execution_count": 1,
   "metadata": {},
   "outputs": [
    {
     "name": "stderr",
     "output_type": "stream",
     "text": [
      "/Users/nandinibasu/opt/anaconda3/lib/python3.7/site-packages/tqdm/std.py:648: FutureWarning: The Panel class is removed from pandas. Accessing it from the top-level namespace will also be removed in the next version\n",
      "  from pandas import Panel\n"
     ]
    }
   ],
   "source": [
    "import pandas as pd\n",
    "import numpy as np\n",
    "import json \n",
    "import heapq\n",
    "import matplotlib.pyplot as plt\n",
    "from nltk.corpus import stopwords\n",
    "from nltk.stem import PorterStemmer\n",
    "from nltk.tokenize import word_tokenize\n",
    "from sklearn.feature_extraction.text import TfidfVectorizer\n",
    "from sklearn.model_selection import train_test_split\n",
    "from sklearn.linear_model import LogisticRegression\n",
    "from sklearn.ensemble import RandomForestClassifier\n",
    "from sklearn.svm import SVC  \n",
    "from sklearn.model_selection import GridSearchCV\n",
    "from sklearn.metrics import confusion_matrix\n",
    "from sklearn.metrics import classification_report\n",
    "from sklearn.metrics import accuracy_score\n",
    "from sklearn.metrics import roc_auc_score\n",
    "from sklearn.metrics import roc_curve\n",
    "from tqdm import tqdm\n",
    "tqdm.pandas()"
   ]
  },
  {
   "cell_type": "markdown",
   "metadata": {},
   "source": [
    "### Dumping json file into dataframe"
   ]
  },
  {
   "cell_type": "code",
   "execution_count": 2,
   "metadata": {},
   "outputs": [],
   "source": [
    "reviews = []\n",
    "for line in open('reviews_Health_and_Personal_Care_5.json', 'r'):\n",
    "    reviews.append(json.loads(line))"
   ]
  },
  {
   "cell_type": "code",
   "execution_count": 3,
   "metadata": {},
   "outputs": [],
   "source": [
    "reviews_df = pd.DataFrame(reviews)"
   ]
  },
  {
   "cell_type": "code",
   "execution_count": 4,
   "metadata": {},
   "outputs": [
    {
     "data": {
      "text/html": [
       "<div>\n",
       "<style scoped>\n",
       "    .dataframe tbody tr th:only-of-type {\n",
       "        vertical-align: middle;\n",
       "    }\n",
       "\n",
       "    .dataframe tbody tr th {\n",
       "        vertical-align: top;\n",
       "    }\n",
       "\n",
       "    .dataframe thead th {\n",
       "        text-align: right;\n",
       "    }\n",
       "</style>\n",
       "<table border=\"1\" class=\"dataframe\">\n",
       "  <thead>\n",
       "    <tr style=\"text-align: right;\">\n",
       "      <th></th>\n",
       "      <th>reviewerID</th>\n",
       "      <th>asin</th>\n",
       "      <th>reviewerName</th>\n",
       "      <th>helpful</th>\n",
       "      <th>reviewText</th>\n",
       "      <th>overall</th>\n",
       "      <th>summary</th>\n",
       "      <th>unixReviewTime</th>\n",
       "      <th>reviewTime</th>\n",
       "    </tr>\n",
       "  </thead>\n",
       "  <tbody>\n",
       "    <tr>\n",
       "      <td>0</td>\n",
       "      <td>ALC5GH8CAMAI7</td>\n",
       "      <td>159985130X</td>\n",
       "      <td>AnnN</td>\n",
       "      <td>[1, 1]</td>\n",
       "      <td>This is a great little gadget to have around. ...</td>\n",
       "      <td>5.0</td>\n",
       "      <td>Handy little gadget</td>\n",
       "      <td>1294185600</td>\n",
       "      <td>01 5, 2011</td>\n",
       "    </tr>\n",
       "    <tr>\n",
       "      <td>1</td>\n",
       "      <td>AHKSURW85PJUE</td>\n",
       "      <td>159985130X</td>\n",
       "      <td>AZ buyer \"AZ buyer\"</td>\n",
       "      <td>[1, 1]</td>\n",
       "      <td>I would recommend this for a travel magnifier ...</td>\n",
       "      <td>4.0</td>\n",
       "      <td>Small &amp; may need to encourage battery</td>\n",
       "      <td>1329523200</td>\n",
       "      <td>02 18, 2012</td>\n",
       "    </tr>\n",
       "    <tr>\n",
       "      <td>2</td>\n",
       "      <td>A38RMU1Y5TDP9</td>\n",
       "      <td>159985130X</td>\n",
       "      <td>Bob Tobias \"Robert Tobias\"</td>\n",
       "      <td>[75, 77]</td>\n",
       "      <td>What I liked was the quality of the lens and t...</td>\n",
       "      <td>4.0</td>\n",
       "      <td>Very good but not great</td>\n",
       "      <td>1275955200</td>\n",
       "      <td>06 8, 2010</td>\n",
       "    </tr>\n",
       "    <tr>\n",
       "      <td>3</td>\n",
       "      <td>A1XZUG7DFXXOS4</td>\n",
       "      <td>159985130X</td>\n",
       "      <td>Cat lover</td>\n",
       "      <td>[56, 60]</td>\n",
       "      <td>Love the Great point light pocket magnifier!  ...</td>\n",
       "      <td>4.0</td>\n",
       "      <td>great addition to your purse</td>\n",
       "      <td>1202428800</td>\n",
       "      <td>02 8, 2008</td>\n",
       "    </tr>\n",
       "    <tr>\n",
       "      <td>4</td>\n",
       "      <td>A1MS3M7M7AM13X</td>\n",
       "      <td>159985130X</td>\n",
       "      <td>Cricketoes</td>\n",
       "      <td>[1, 1]</td>\n",
       "      <td>This is very nice. You pull out on the magnifi...</td>\n",
       "      <td>5.0</td>\n",
       "      <td>Very nice and convenient.</td>\n",
       "      <td>1313452800</td>\n",
       "      <td>08 16, 2011</td>\n",
       "    </tr>\n",
       "  </tbody>\n",
       "</table>\n",
       "</div>"
      ],
      "text/plain": [
       "       reviewerID        asin                reviewerName   helpful  \\\n",
       "0   ALC5GH8CAMAI7  159985130X                        AnnN    [1, 1]   \n",
       "1   AHKSURW85PJUE  159985130X         AZ buyer \"AZ buyer\"    [1, 1]   \n",
       "2   A38RMU1Y5TDP9  159985130X  Bob Tobias \"Robert Tobias\"  [75, 77]   \n",
       "3  A1XZUG7DFXXOS4  159985130X                   Cat lover  [56, 60]   \n",
       "4  A1MS3M7M7AM13X  159985130X                  Cricketoes    [1, 1]   \n",
       "\n",
       "                                          reviewText  overall  \\\n",
       "0  This is a great little gadget to have around. ...      5.0   \n",
       "1  I would recommend this for a travel magnifier ...      4.0   \n",
       "2  What I liked was the quality of the lens and t...      4.0   \n",
       "3  Love the Great point light pocket magnifier!  ...      4.0   \n",
       "4  This is very nice. You pull out on the magnifi...      5.0   \n",
       "\n",
       "                                 summary  unixReviewTime   reviewTime  \n",
       "0                    Handy little gadget      1294185600   01 5, 2011  \n",
       "1  Small & may need to encourage battery      1329523200  02 18, 2012  \n",
       "2                Very good but not great      1275955200   06 8, 2010  \n",
       "3           great addition to your purse      1202428800   02 8, 2008  \n",
       "4              Very nice and convenient.      1313452800  08 16, 2011  "
      ]
     },
     "execution_count": 4,
     "metadata": {},
     "output_type": "execute_result"
    }
   ],
   "source": [
    "reviews_df.head()"
   ]
  },
  {
   "cell_type": "code",
   "execution_count": 5,
   "metadata": {},
   "outputs": [],
   "source": [
    "review_data = reviews_df[[\"reviewerID\",\"reviewText\",\"overall\"]]"
   ]
  },
  {
   "cell_type": "code",
   "execution_count": 6,
   "metadata": {},
   "outputs": [
    {
     "data": {
      "text/html": [
       "<div>\n",
       "<style scoped>\n",
       "    .dataframe tbody tr th:only-of-type {\n",
       "        vertical-align: middle;\n",
       "    }\n",
       "\n",
       "    .dataframe tbody tr th {\n",
       "        vertical-align: top;\n",
       "    }\n",
       "\n",
       "    .dataframe thead th {\n",
       "        text-align: right;\n",
       "    }\n",
       "</style>\n",
       "<table border=\"1\" class=\"dataframe\">\n",
       "  <thead>\n",
       "    <tr style=\"text-align: right;\">\n",
       "      <th></th>\n",
       "      <th>reviewerID</th>\n",
       "      <th>reviewText</th>\n",
       "      <th>overall</th>\n",
       "    </tr>\n",
       "  </thead>\n",
       "  <tbody>\n",
       "    <tr>\n",
       "      <td>0</td>\n",
       "      <td>ALC5GH8CAMAI7</td>\n",
       "      <td>This is a great little gadget to have around. ...</td>\n",
       "      <td>5.0</td>\n",
       "    </tr>\n",
       "    <tr>\n",
       "      <td>1</td>\n",
       "      <td>AHKSURW85PJUE</td>\n",
       "      <td>I would recommend this for a travel magnifier ...</td>\n",
       "      <td>4.0</td>\n",
       "    </tr>\n",
       "    <tr>\n",
       "      <td>2</td>\n",
       "      <td>A38RMU1Y5TDP9</td>\n",
       "      <td>What I liked was the quality of the lens and t...</td>\n",
       "      <td>4.0</td>\n",
       "    </tr>\n",
       "    <tr>\n",
       "      <td>3</td>\n",
       "      <td>A1XZUG7DFXXOS4</td>\n",
       "      <td>Love the Great point light pocket magnifier!  ...</td>\n",
       "      <td>4.0</td>\n",
       "    </tr>\n",
       "    <tr>\n",
       "      <td>4</td>\n",
       "      <td>A1MS3M7M7AM13X</td>\n",
       "      <td>This is very nice. You pull out on the magnifi...</td>\n",
       "      <td>5.0</td>\n",
       "    </tr>\n",
       "  </tbody>\n",
       "</table>\n",
       "</div>"
      ],
      "text/plain": [
       "       reviewerID                                         reviewText  overall\n",
       "0   ALC5GH8CAMAI7  This is a great little gadget to have around. ...      5.0\n",
       "1   AHKSURW85PJUE  I would recommend this for a travel magnifier ...      4.0\n",
       "2   A38RMU1Y5TDP9  What I liked was the quality of the lens and t...      4.0\n",
       "3  A1XZUG7DFXXOS4  Love the Great point light pocket magnifier!  ...      4.0\n",
       "4  A1MS3M7M7AM13X  This is very nice. You pull out on the magnifi...      5.0"
      ]
     },
     "execution_count": 6,
     "metadata": {},
     "output_type": "execute_result"
    }
   ],
   "source": [
    "review_data.head()"
   ]
  },
  {
   "cell_type": "markdown",
   "metadata": {},
   "source": [
    "### Quick data check"
   ]
  },
  {
   "cell_type": "code",
   "execution_count": 7,
   "metadata": {},
   "outputs": [
    {
     "name": "stdout",
     "output_type": "stream",
     "text": [
      "<class 'pandas.core.frame.DataFrame'>\n",
      "RangeIndex: 346355 entries, 0 to 346354\n",
      "Data columns (total 3 columns):\n",
      "reviewerID    346355 non-null object\n",
      "reviewText    346355 non-null object\n",
      "overall       346355 non-null float64\n",
      "dtypes: float64(1), object(2)\n",
      "memory usage: 7.9+ MB\n"
     ]
    }
   ],
   "source": [
    "review_data.info()"
   ]
  },
  {
   "cell_type": "markdown",
   "metadata": {},
   "source": [
    "## Text preprocessing"
   ]
  },
  {
   "cell_type": "code",
   "execution_count": 8,
   "metadata": {
    "scrolled": true
   },
   "outputs": [
    {
     "name": "stderr",
     "output_type": "stream",
     "text": [
      "/Users/nandinibasu/opt/anaconda3/lib/python3.7/site-packages/ipykernel_launcher.py:2: SettingWithCopyWarning: \n",
      "A value is trying to be set on a copy of a slice from a DataFrame.\n",
      "Try using .loc[row_indexer,col_indexer] = value instead\n",
      "\n",
      "See the caveats in the documentation: http://pandas.pydata.org/pandas-docs/stable/user_guide/indexing.html#returning-a-view-versus-a-copy\n",
      "  \n",
      "100%|██████████| 346355/346355 [04:25<00:00, 1306.64it/s]\n",
      "/Users/nandinibasu/opt/anaconda3/lib/python3.7/site-packages/ipykernel_launcher.py:5: SettingWithCopyWarning: \n",
      "A value is trying to be set on a copy of a slice from a DataFrame.\n",
      "Try using .loc[row_indexer,col_indexer] = value instead\n",
      "\n",
      "See the caveats in the documentation: http://pandas.pydata.org/pandas-docs/stable/user_guide/indexing.html#returning-a-view-versus-a-copy\n",
      "  \"\"\"\n",
      "100%|██████████| 346355/346355 [00:04<00:00, 82169.12it/s] \n",
      "/Users/nandinibasu/opt/anaconda3/lib/python3.7/site-packages/ipykernel_launcher.py:8: SettingWithCopyWarning: \n",
      "A value is trying to be set on a copy of a slice from a DataFrame.\n",
      "Try using .loc[row_indexer,col_indexer] = value instead\n",
      "\n",
      "See the caveats in the documentation: http://pandas.pydata.org/pandas-docs/stable/user_guide/indexing.html#returning-a-view-versus-a-copy\n",
      "  \n",
      "100%|██████████| 346355/346355 [00:55<00:00, 6215.82it/s]\n",
      "/Users/nandinibasu/opt/anaconda3/lib/python3.7/site-packages/ipykernel_launcher.py:12: SettingWithCopyWarning: \n",
      "A value is trying to be set on a copy of a slice from a DataFrame.\n",
      "Try using .loc[row_indexer,col_indexer] = value instead\n",
      "\n",
      "See the caveats in the documentation: http://pandas.pydata.org/pandas-docs/stable/user_guide/indexing.html#returning-a-view-versus-a-copy\n",
      "  if sys.path[0] == '':\n",
      "100%|██████████| 346355/346355 [00:03<00:00, 91507.53it/s] \n",
      "/Users/nandinibasu/opt/anaconda3/lib/python3.7/site-packages/ipykernel_launcher.py:15: SettingWithCopyWarning: \n",
      "A value is trying to be set on a copy of a slice from a DataFrame.\n",
      "Try using .loc[row_indexer,col_indexer] = value instead\n",
      "\n",
      "See the caveats in the documentation: http://pandas.pydata.org/pandas-docs/stable/user_guide/indexing.html#returning-a-view-versus-a-copy\n",
      "  from ipykernel import kernelapp as app\n",
      "100%|██████████| 346355/346355 [05:56<00:00, 972.36it/s] \n",
      "/Users/nandinibasu/opt/anaconda3/lib/python3.7/site-packages/ipykernel_launcher.py:19: SettingWithCopyWarning: \n",
      "A value is trying to be set on a copy of a slice from a DataFrame.\n",
      "Try using .loc[row_indexer,col_indexer] = value instead\n",
      "\n",
      "See the caveats in the documentation: http://pandas.pydata.org/pandas-docs/stable/user_guide/indexing.html#returning-a-view-versus-a-copy\n",
      "100%|██████████| 346355/346355 [00:02<00:00, 140301.32it/s]\n",
      "/Users/nandinibasu/opt/anaconda3/lib/python3.7/site-packages/ipykernel_launcher.py:22: SettingWithCopyWarning: \n",
      "A value is trying to be set on a copy of a slice from a DataFrame.\n",
      "Try using .loc[row_indexer,col_indexer] = value instead\n",
      "\n",
      "See the caveats in the documentation: http://pandas.pydata.org/pandas-docs/stable/user_guide/indexing.html#returning-a-view-versus-a-copy\n"
     ]
    }
   ],
   "source": [
    "#lower case\n",
    "review_data[\"reviewText\"]=review_data[\"reviewText\"].str.lower() \n",
    "\n",
    "#tokenization words\n",
    "review_data['reviewText'] = review_data.progress_apply(lambda row: word_tokenize(row['reviewText']), axis=1) \n",
    "\n",
    "#handling negation\n",
    "review_data[\"reviewText\"] = review_data[\"reviewText\"].progress_apply(lambda x: ['not' if a ==\"n't\" else a for a in x])\n",
    "\n",
    "#removing stop words\n",
    "stop = stopwords.words('english')\n",
    "review_data['reviewText'] = review_data['reviewText'].progress_apply(lambda x: [a for a in x if a not in stop])\n",
    "\n",
    "#removing punctuation and symbols\n",
    "review_data[\"reviewText\"] = review_data['reviewText'].progress_apply(lambda x: [a for a in x if a.isalpha()]) \n",
    "\n",
    "#stemming words\n",
    "ps = PorterStemmer()\n",
    "review_data['reviewText'] = review_data['reviewText'].progress_apply(lambda x : [ps.stem(a) for a in x])\n",
    "\n",
    "#joining words back\n",
    "review_data[\"reviewText\"] = review_data[\"reviewText\"].progress_apply(lambda x: str(' '.join(x))) "
   ]
  },
  {
   "cell_type": "code",
   "execution_count": 9,
   "metadata": {},
   "outputs": [
    {
     "data": {
      "text/html": [
       "<div>\n",
       "<style scoped>\n",
       "    .dataframe tbody tr th:only-of-type {\n",
       "        vertical-align: middle;\n",
       "    }\n",
       "\n",
       "    .dataframe tbody tr th {\n",
       "        vertical-align: top;\n",
       "    }\n",
       "\n",
       "    .dataframe thead th {\n",
       "        text-align: right;\n",
       "    }\n",
       "</style>\n",
       "<table border=\"1\" class=\"dataframe\">\n",
       "  <thead>\n",
       "    <tr style=\"text-align: right;\">\n",
       "      <th></th>\n",
       "      <th>reviewerID</th>\n",
       "      <th>reviewText</th>\n",
       "      <th>overall</th>\n",
       "    </tr>\n",
       "  </thead>\n",
       "  <tbody>\n",
       "    <tr>\n",
       "      <td>0</td>\n",
       "      <td>ALC5GH8CAMAI7</td>\n",
       "      <td>great littl gadget around alreadi use look spl...</td>\n",
       "      <td>5.0</td>\n",
       "    </tr>\n",
       "    <tr>\n",
       "      <td>1</td>\n",
       "      <td>AHKSURW85PJUE</td>\n",
       "      <td>would recommend travel magnifi occasion read a...</td>\n",
       "      <td>4.0</td>\n",
       "    </tr>\n",
       "    <tr>\n",
       "      <td>2</td>\n",
       "      <td>A38RMU1Y5TDP9</td>\n",
       "      <td>like qualiti len built light len discern disto...</td>\n",
       "      <td>4.0</td>\n",
       "    </tr>\n",
       "    <tr>\n",
       "      <td>3</td>\n",
       "      <td>A1XZUG7DFXXOS4</td>\n",
       "      <td>love great point light pocket magnifi work gre...</td>\n",
       "      <td>4.0</td>\n",
       "    </tr>\n",
       "    <tr>\n",
       "      <td>4</td>\n",
       "      <td>A1MS3M7M7AM13X</td>\n",
       "      <td>nice pull magnifi want light come slide back w...</td>\n",
       "      <td>5.0</td>\n",
       "    </tr>\n",
       "  </tbody>\n",
       "</table>\n",
       "</div>"
      ],
      "text/plain": [
       "       reviewerID                                         reviewText  overall\n",
       "0   ALC5GH8CAMAI7  great littl gadget around alreadi use look spl...      5.0\n",
       "1   AHKSURW85PJUE  would recommend travel magnifi occasion read a...      4.0\n",
       "2   A38RMU1Y5TDP9  like qualiti len built light len discern disto...      4.0\n",
       "3  A1XZUG7DFXXOS4  love great point light pocket magnifi work gre...      4.0\n",
       "4  A1MS3M7M7AM13X  nice pull magnifi want light come slide back w...      5.0"
      ]
     },
     "execution_count": 9,
     "metadata": {},
     "output_type": "execute_result"
    }
   ],
   "source": [
    "review_data.head()"
   ]
  },
  {
   "cell_type": "markdown",
   "metadata": {},
   "source": [
    "### Mapping ratings to sentiments\n",
    "A rating of 4 or 5 signifies positive sentiment 1\n",
    "<br>A rating of 1 or 2 signifies negative sentiment 0"
   ]
  },
  {
   "cell_type": "code",
   "execution_count": 10,
   "metadata": {},
   "outputs": [
    {
     "name": "stderr",
     "output_type": "stream",
     "text": [
      "/Users/nandinibasu/opt/anaconda3/lib/python3.7/site-packages/ipykernel_launcher.py:2: SettingWithCopyWarning: \n",
      "A value is trying to be set on a copy of a slice from a DataFrame.\n",
      "Try using .loc[row_indexer,col_indexer] = value instead\n",
      "\n",
      "See the caveats in the documentation: http://pandas.pydata.org/pandas-docs/stable/user_guide/indexing.html#returning-a-view-versus-a-copy\n",
      "  \n"
     ]
    }
   ],
   "source": [
    "sentiment = {1: 0, 2: 0, 4: 1, 5: 1}\n",
    "review_data[\"sentiment\"] = review_data[\"overall\"].map(sentiment)"
   ]
  },
  {
   "cell_type": "markdown",
   "metadata": {},
   "source": [
    "### Data balance"
   ]
  },
  {
   "cell_type": "code",
   "execution_count": 11,
   "metadata": {},
   "outputs": [
    {
     "data": {
      "text/plain": [
       "(33300, 279801)"
      ]
     },
     "execution_count": 11,
     "metadata": {},
     "output_type": "execute_result"
    }
   ],
   "source": [
    "len(review_data[review_data[\"sentiment\"]==0]),len(review_data[review_data[\"sentiment\"]==1])"
   ]
  },
  {
   "cell_type": "code",
   "execution_count": 12,
   "metadata": {},
   "outputs": [
    {
     "data": {
      "text/html": [
       "<div>\n",
       "<style scoped>\n",
       "    .dataframe tbody tr th:only-of-type {\n",
       "        vertical-align: middle;\n",
       "    }\n",
       "\n",
       "    .dataframe tbody tr th {\n",
       "        vertical-align: top;\n",
       "    }\n",
       "\n",
       "    .dataframe thead th {\n",
       "        text-align: right;\n",
       "    }\n",
       "</style>\n",
       "<table border=\"1\" class=\"dataframe\">\n",
       "  <thead>\n",
       "    <tr style=\"text-align: right;\">\n",
       "      <th></th>\n",
       "      <th>reviewerID</th>\n",
       "      <th>reviewText</th>\n",
       "      <th>overall</th>\n",
       "      <th>sentiment</th>\n",
       "    </tr>\n",
       "  </thead>\n",
       "  <tbody>\n",
       "    <tr>\n",
       "      <td>0</td>\n",
       "      <td>ALC5GH8CAMAI7</td>\n",
       "      <td>great littl gadget around alreadi use look spl...</td>\n",
       "      <td>5.0</td>\n",
       "      <td>1.0</td>\n",
       "    </tr>\n",
       "    <tr>\n",
       "      <td>1</td>\n",
       "      <td>AHKSURW85PJUE</td>\n",
       "      <td>would recommend travel magnifi occasion read a...</td>\n",
       "      <td>4.0</td>\n",
       "      <td>1.0</td>\n",
       "    </tr>\n",
       "    <tr>\n",
       "      <td>2</td>\n",
       "      <td>A38RMU1Y5TDP9</td>\n",
       "      <td>like qualiti len built light len discern disto...</td>\n",
       "      <td>4.0</td>\n",
       "      <td>1.0</td>\n",
       "    </tr>\n",
       "    <tr>\n",
       "      <td>3</td>\n",
       "      <td>A1XZUG7DFXXOS4</td>\n",
       "      <td>love great point light pocket magnifi work gre...</td>\n",
       "      <td>4.0</td>\n",
       "      <td>1.0</td>\n",
       "    </tr>\n",
       "    <tr>\n",
       "      <td>4</td>\n",
       "      <td>A1MS3M7M7AM13X</td>\n",
       "      <td>nice pull magnifi want light come slide back w...</td>\n",
       "      <td>5.0</td>\n",
       "      <td>1.0</td>\n",
       "    </tr>\n",
       "  </tbody>\n",
       "</table>\n",
       "</div>"
      ],
      "text/plain": [
       "       reviewerID                                         reviewText  overall  \\\n",
       "0   ALC5GH8CAMAI7  great littl gadget around alreadi use look spl...      5.0   \n",
       "1   AHKSURW85PJUE  would recommend travel magnifi occasion read a...      4.0   \n",
       "2   A38RMU1Y5TDP9  like qualiti len built light len discern disto...      4.0   \n",
       "3  A1XZUG7DFXXOS4  love great point light pocket magnifi work gre...      4.0   \n",
       "4  A1MS3M7M7AM13X  nice pull magnifi want light come slide back w...      5.0   \n",
       "\n",
       "   sentiment  \n",
       "0        1.0  \n",
       "1        1.0  \n",
       "2        1.0  \n",
       "3        1.0  \n",
       "4        1.0  "
      ]
     },
     "execution_count": 12,
     "metadata": {},
     "output_type": "execute_result"
    }
   ],
   "source": [
    "# data is severely unbalanced\n",
    "review_data.head()"
   ]
  },
  {
   "cell_type": "markdown",
   "metadata": {},
   "source": [
    "### Creating balanced sample "
   ]
  },
  {
   "cell_type": "code",
   "execution_count": 13,
   "metadata": {},
   "outputs": [],
   "source": [
    "review_positive = review_data[review_data['sentiment']==1]\n",
    "review_negative = review_data[review_data['sentiment']==0]"
   ]
  },
  {
   "cell_type": "code",
   "execution_count": 14,
   "metadata": {},
   "outputs": [],
   "source": [
    "new_reviews = pd.concat([review_positive.sample(n=10000, random_state=1), review_negative.sample(n=10000, random_state=1)])"
   ]
  },
  {
   "cell_type": "code",
   "execution_count": 15,
   "metadata": {},
   "outputs": [
    {
     "data": {
      "text/html": [
       "<div>\n",
       "<style scoped>\n",
       "    .dataframe tbody tr th:only-of-type {\n",
       "        vertical-align: middle;\n",
       "    }\n",
       "\n",
       "    .dataframe tbody tr th {\n",
       "        vertical-align: top;\n",
       "    }\n",
       "\n",
       "    .dataframe thead th {\n",
       "        text-align: right;\n",
       "    }\n",
       "</style>\n",
       "<table border=\"1\" class=\"dataframe\">\n",
       "  <thead>\n",
       "    <tr style=\"text-align: right;\">\n",
       "      <th></th>\n",
       "      <th>reviewerID</th>\n",
       "      <th>reviewText</th>\n",
       "      <th>overall</th>\n",
       "      <th>sentiment</th>\n",
       "    </tr>\n",
       "  </thead>\n",
       "  <tbody>\n",
       "    <tr>\n",
       "      <td>148308</td>\n",
       "      <td>A2MU3FLFSWW4TD</td>\n",
       "      <td>use pay twice much network market scheme man i...</td>\n",
       "      <td>5.0</td>\n",
       "      <td>1.0</td>\n",
       "    </tr>\n",
       "    <tr>\n",
       "      <td>14870</td>\n",
       "      <td>A2WL9KZ9JXRTHQ</td>\n",
       "      <td>make great product yogurt quit tasti clean fre...</td>\n",
       "      <td>5.0</td>\n",
       "      <td>1.0</td>\n",
       "    </tr>\n",
       "    <tr>\n",
       "      <td>315518</td>\n",
       "      <td>A27GPXG538KWHU</td>\n",
       "      <td>use anoth major brand omega capsul decid tri d...</td>\n",
       "      <td>5.0</td>\n",
       "      <td>1.0</td>\n",
       "    </tr>\n",
       "    <tr>\n",
       "      <td>196317</td>\n",
       "      <td>A4E9H23O2Q9SR</td>\n",
       "      <td>like thing pretti comfort definit add support ...</td>\n",
       "      <td>4.0</td>\n",
       "      <td>1.0</td>\n",
       "    </tr>\n",
       "    <tr>\n",
       "      <td>269638</td>\n",
       "      <td>A27Q1X75QCWTID</td>\n",
       "      <td>usual use mach kind razor excit tri girli razo...</td>\n",
       "      <td>4.0</td>\n",
       "      <td>1.0</td>\n",
       "    </tr>\n",
       "  </tbody>\n",
       "</table>\n",
       "</div>"
      ],
      "text/plain": [
       "            reviewerID                                         reviewText  \\\n",
       "148308  A2MU3FLFSWW4TD  use pay twice much network market scheme man i...   \n",
       "14870   A2WL9KZ9JXRTHQ  make great product yogurt quit tasti clean fre...   \n",
       "315518  A27GPXG538KWHU  use anoth major brand omega capsul decid tri d...   \n",
       "196317   A4E9H23O2Q9SR  like thing pretti comfort definit add support ...   \n",
       "269638  A27Q1X75QCWTID  usual use mach kind razor excit tri girli razo...   \n",
       "\n",
       "        overall  sentiment  \n",
       "148308      5.0        1.0  \n",
       "14870       5.0        1.0  \n",
       "315518      5.0        1.0  \n",
       "196317      4.0        1.0  \n",
       "269638      4.0        1.0  "
      ]
     },
     "execution_count": 15,
     "metadata": {},
     "output_type": "execute_result"
    }
   ],
   "source": [
    "new_reviews.head()"
   ]
  },
  {
   "cell_type": "code",
   "execution_count": 16,
   "metadata": {},
   "outputs": [
    {
     "data": {
      "text/plain": [
       "(10000, 10000)"
      ]
     },
     "execution_count": 16,
     "metadata": {},
     "output_type": "execute_result"
    }
   ],
   "source": [
    "len(new_reviews[new_reviews[\"sentiment\"]==0]),len(new_reviews[new_reviews[\"sentiment\"]==1])"
   ]
  },
  {
   "cell_type": "markdown",
   "metadata": {},
   "source": [
    "## Text vectoization"
   ]
  },
  {
   "cell_type": "markdown",
   "metadata": {},
   "source": [
    "### Bag of words"
   ]
  },
  {
   "cell_type": "code",
   "execution_count": 17,
   "metadata": {},
   "outputs": [
    {
     "data": {
      "text/plain": [
       "{'use': 15313,\n",
       " 'pay': 532,\n",
       " 'twice': 463,\n",
       " 'much': 4069,\n",
       " 'network': 7,\n",
       " 'market': 436,\n",
       " 'scheme': 13,\n",
       " 'man': 176,\n",
       " 'ignor': 42,\n",
       " 'better': 3424,\n",
       " 'half': 641,\n",
       " 'recommend': 3134,\n",
       " 'everyon': 357,\n",
       " 'make': 3805,\n",
       " 'great': 4090,\n",
       " 'product': 11307,\n",
       " 'yogurt': 76,\n",
       " 'quit': 1045,\n",
       " 'tasti': 106,\n",
       " 'clean': 2818,\n",
       " 'fresh': 489,\n",
       " 'like': 8799,\n",
       " 'stuff': 1384,\n",
       " 'get': 7493,\n",
       " 'last': 2050,\n",
       " 'easi': 1771,\n",
       " 'highli': 685,\n",
       " 'anoth': 1412,\n",
       " 'major': 225,\n",
       " 'brand': 2148,\n",
       " 'omega': 203,\n",
       " 'capsul': 884,\n",
       " 'decid': 848,\n",
       " 'tri': 6202,\n",
       " 'dr': 97,\n",
       " 'tobia': 3,\n",
       " 'say': 2703,\n",
       " 'although': 510,\n",
       " 'unnam': 1,\n",
       " 'premium': 64,\n",
       " 'claim': 516,\n",
       " 'fishi': 124,\n",
       " 'odor': 378,\n",
       " 'smell': 2438,\n",
       " 'could': 2809,\n",
       " 'still': 2227,\n",
       " 'bit': 1485,\n",
       " 'tast': 2915,\n",
       " 'everi': 1533,\n",
       " 'thing': 2785,\n",
       " 'pretti': 1190,\n",
       " 'comfort': 817,\n",
       " 'definit': 941,\n",
       " 'add': 603,\n",
       " 'support': 655,\n",
       " 'keep': 2084,\n",
       " 'wear': 819,\n",
       " 'let': 801,\n",
       " 'bend': 110,\n",
       " 'wrist': 240,\n",
       " 'uncomfort': 311,\n",
       " 'spot': 344,\n",
       " 'sleep': 1103,\n",
       " 'dont': 217,\n",
       " 'whenev': 83,\n",
       " 'phone': 135,\n",
       " 'day': 4316,\n",
       " 'feel': 3488,\n",
       " 'sore': 239,\n",
       " 'put': 1968,\n",
       " 'remind': 155,\n",
       " 'velcro': 142,\n",
       " 'strong': 860,\n",
       " 'hold': 879,\n",
       " 'take': 5897,\n",
       " 'star': 1117,\n",
       " 'would': 6517,\n",
       " 'slide': 171,\n",
       " 'part': 854,\n",
       " 'thumb': 133,\n",
       " 'index': 24,\n",
       " 'finger': 299,\n",
       " 'dig': 54,\n",
       " 'cut': 1123,\n",
       " 'scissor': 56,\n",
       " 'sinc': 1865,\n",
       " 'work': 8203,\n",
       " 'fine': 771,\n",
       " 'one': 8569,\n",
       " 'insid': 510,\n",
       " 'littl': 2631,\n",
       " 'grippi': 8,\n",
       " 'usual': 829,\n",
       " 'mach': 69,\n",
       " 'kind': 811,\n",
       " 'razor': 2048,\n",
       " 'excit': 224,\n",
       " 'girli': 8,\n",
       " 'love': 1973,\n",
       " 'often': 484,\n",
       " 'olay': 16,\n",
       " 'first': 2851,\n",
       " 'time': 5445,\n",
       " 'actual': 1496,\n",
       " 'hand': 1199,\n",
       " 'leg': 548,\n",
       " 'check': 517,\n",
       " 'sure': 1723,\n",
       " 'hair': 1729,\n",
       " 'swear': 60,\n",
       " 'ran': 140,\n",
       " 'felt': 915,\n",
       " 'feather': 98,\n",
       " 'light': 1228,\n",
       " 'length': 231,\n",
       " 'soooo': 13,\n",
       " 'smooth': 473,\n",
       " 'contour': 55,\n",
       " 'pivot': 48,\n",
       " 'head': 1363,\n",
       " 'awesom': 212,\n",
       " 'well': 4310,\n",
       " 'knobbi': 3,\n",
       " 'type': 732,\n",
       " 'knee': 401,\n",
       " 'glide': 152,\n",
       " 'ski': 19,\n",
       " 'alp': 2,\n",
       " 'gave': 773,\n",
       " 'ultim': 87,\n",
       " 'challeng': 35,\n",
       " 'tend': 272,\n",
       " 'bikini': 68,\n",
       " 'area': 824,\n",
       " 'awhil': 115,\n",
       " 'go': 3457,\n",
       " 'took': 1214,\n",
       " 'care': 918,\n",
       " 'busi': 136,\n",
       " 'babi': 338,\n",
       " 'fact': 750,\n",
       " 'come': 1942,\n",
       " 'suction': 101,\n",
       " 'cup': 454,\n",
       " 'holder': 128,\n",
       " 'place': 898,\n",
       " 'strateg': 4,\n",
       " 'shower': 476,\n",
       " 'bathtub': 23,\n",
       " 'water': 2155,\n",
       " 'run': 837,\n",
       " 'directli': 142,\n",
       " 'lose': 601,\n",
       " 'want': 2639,\n",
       " 'pour': 106,\n",
       " 'moistur': 311,\n",
       " 'bar': 1271,\n",
       " 'least': 896,\n",
       " 'two': 2377,\n",
       " 'week': 1926,\n",
       " 'total': 490,\n",
       " 'look': 2773,\n",
       " 'dwindl': 3,\n",
       " 'size': 1411,\n",
       " 'blade': 1367,\n",
       " 'seem': 2617,\n",
       " 'ultra': 176,\n",
       " 'honestli': 186,\n",
       " 'might': 1162,\n",
       " 'toss': 152,\n",
       " 'trash': 202,\n",
       " 'full': 692,\n",
       " 'downsid': 72,\n",
       " 'contain': 1189,\n",
       " 'sodium': 136,\n",
       " 'laureth': 11,\n",
       " 'sulfat': 44,\n",
       " 'anyon': 644,\n",
       " 'follow': 570,\n",
       " 'review': 2968,\n",
       " 'know': 2273,\n",
       " 'ingredi': 1122,\n",
       " 'give': 2444,\n",
       " 'sl': 11,\n",
       " 'content': 176,\n",
       " 'flow': 110,\n",
       " 'heavier': 55,\n",
       " 'expect': 942,\n",
       " 'leak': 275,\n",
       " 'green': 473,\n",
       " 'color': 583,\n",
       " 'find': 1955,\n",
       " 'less': 1508,\n",
       " 'blunt': 10,\n",
       " 'shape': 339,\n",
       " 'gentl': 152,\n",
       " 'nunatur': 5,\n",
       " 'pure': 257,\n",
       " 'stevia': 112,\n",
       " 'year': 2731,\n",
       " 'sampl': 183,\n",
       " 'differ': 2587,\n",
       " 'never': 1748,\n",
       " 'found': 1866,\n",
       " 'gross': 122,\n",
       " 'bitter': 94,\n",
       " 'aftertast': 189,\n",
       " 'cheaper': 520,\n",
       " 'yr': 58,\n",
       " 'seldom': 16,\n",
       " 'night': 1014,\n",
       " 'urin': 105,\n",
       " 'dove': 63,\n",
       " 'deodor': 482,\n",
       " 'except': 342,\n",
       " 'masculin': 10,\n",
       " 'scent': 1257,\n",
       " 'without': 1564,\n",
       " 'overpow': 137,\n",
       " 'goe': 507,\n",
       " 'smoothli': 72,\n",
       " 'husband': 656,\n",
       " 'complaint': 263,\n",
       " 'receiv': 722,\n",
       " 'spring': 94,\n",
       " 'meadow': 6,\n",
       " 'pod': 93,\n",
       " 'realli': 4260,\n",
       " 'huge': 389,\n",
       " 'fan': 256,\n",
       " 'freshli': 17,\n",
       " 'wash': 932,\n",
       " 'laundri': 332,\n",
       " 'talk': 190,\n",
       " 'simplic': 10,\n",
       " 'machin': 411,\n",
       " 'simpl': 295,\n",
       " 'cloth': 929,\n",
       " 'suppos': 679,\n",
       " 'bottom': 434,\n",
       " 'load': 369,\n",
       " 'conveni': 324,\n",
       " 'someth': 1788,\n",
       " 'happili': 28,\n",
       " 'extra': 652,\n",
       " 'fuss': 30,\n",
       " 'wast': 883,\n",
       " 'super': 402,\n",
       " 'wet': 466,\n",
       " 'deepli': 16,\n",
       " 'floral': 29,\n",
       " 'dryer': 264,\n",
       " 'subtl': 70,\n",
       " 'perfect': 542,\n",
       " 'weak': 127,\n",
       " 'prefer': 488,\n",
       " 'stronger': 137,\n",
       " 'dri': 1147,\n",
       " 'free': 790,\n",
       " 'clear': 462,\n",
       " 'ad': 619,\n",
       " 'via': 91,\n",
       " 'sheet': 371,\n",
       " 'issu': 954,\n",
       " 'dissolv': 242,\n",
       " 'completli': 3,\n",
       " 'done': 590,\n",
       " 'power': 684,\n",
       " 'regular': 830,\n",
       " 'tide': 224,\n",
       " 'eas': 149,\n",
       " 'deal': 564,\n",
       " 'measur': 351,\n",
       " 'lift': 151,\n",
       " 'heavi': 409,\n",
       " 'jug': 24,\n",
       " 'spill': 103,\n",
       " 'soap': 530,\n",
       " 'deterg': 548,\n",
       " 'floor': 426,\n",
       " 'inevit': 17,\n",
       " 'dribbl': 9,\n",
       " 'side': 1075,\n",
       " 'rejoic': 7,\n",
       " 'easier': 436,\n",
       " 'son': 249,\n",
       " 'tummi': 33,\n",
       " 'refresh': 123,\n",
       " 'ga': 143,\n",
       " 'stinki': 28,\n",
       " 'booti': 6,\n",
       " 'afterward': 126,\n",
       " 'mind': 354,\n",
       " 'fast': 440,\n",
       " 'ship': 527,\n",
       " 'best': 1541,\n",
       " 'ever': 864,\n",
       " 'safeti': 196,\n",
       " 'complet': 666,\n",
       " 'happi': 738,\n",
       " 'derbi': 39,\n",
       " 'hd': 15,\n",
       " 'alway': 1221,\n",
       " 'loud': 121,\n",
       " 'carbon': 45,\n",
       " 'drink': 931,\n",
       " 'near': 199,\n",
       " 'ear': 394,\n",
       " 'pop': 168,\n",
       " 'hear': 210,\n",
       " 'individu': 172,\n",
       " 'soft': 753,\n",
       " 'bacon': 6,\n",
       " 'fri': 22,\n",
       " 'next': 669,\n",
       " 'room': 434,\n",
       " 'sound': 474,\n",
       " 'instantli': 51,\n",
       " 'wow': 120,\n",
       " 'safe': 328,\n",
       " 'pass': 294,\n",
       " 'neck': 377,\n",
       " 'assum': 187,\n",
       " 'due': 501,\n",
       " 'rough': 151,\n",
       " 'old': 1102,\n",
       " 'amaz': 360,\n",
       " 'merkur': 85,\n",
       " 'direct': 572,\n",
       " 'factori': 38,\n",
       " 'meijer': 1,\n",
       " 'shark': 18,\n",
       " 'probabl': 899,\n",
       " 'other': 782,\n",
       " 'slip': 160,\n",
       " 'none': 224,\n",
       " 'even': 3626,\n",
       " 'close': 898,\n",
       " 'warn': 269,\n",
       " 'peopl': 1470,\n",
       " 'sharp': 224,\n",
       " 'face': 943,\n",
       " 'person': 780,\n",
       " 'age': 217,\n",
       " 'result': 1346,\n",
       " 'far': 1223,\n",
       " 'injuri': 109,\n",
       " 'similar': 419,\n",
       " 'attempt': 154,\n",
       " 'notic': 1701,\n",
       " 'sting': 73,\n",
       " 'styptic': 4,\n",
       " 'think': 2373,\n",
       " 'relat': 87,\n",
       " 'good': 5630,\n",
       " 'wife': 495,\n",
       " 'remark': 32,\n",
       " 'later': 483,\n",
       " 'normal': 719,\n",
       " 'shave': 2811,\n",
       " 'kit': 398,\n",
       " 'context': 12,\n",
       " 'william': 9,\n",
       " 'mug': 62,\n",
       " 'pharmaci': 65,\n",
       " 'dollar': 223,\n",
       " 'tweezerman': 25,\n",
       " 'brush': 1579,\n",
       " 'cheap': 699,\n",
       " 'effect': 1999,\n",
       " 'parker': 21,\n",
       " 'fanci': 44,\n",
       " 'butterfli': 23,\n",
       " 'otherwis': 233,\n",
       " 'standard': 276,\n",
       " 'expens': 996,\n",
       " 'equip': 68,\n",
       " 'switch': 466,\n",
       " 'made': 1835,\n",
       " 'new': 1396,\n",
       " 'de': 85,\n",
       " 'train': 112,\n",
       " 'anyth': 1268,\n",
       " 'help': 3199,\n",
       " 'confid': 93,\n",
       " 'must': 585,\n",
       " 'kid': 410,\n",
       " 'hate': 366,\n",
       " 'awkward': 93,\n",
       " 'tube': 289,\n",
       " 'medic': 468,\n",
       " 'paus': 17,\n",
       " 'impress': 320,\n",
       " 'see': 2113,\n",
       " 'recov': 46,\n",
       " 'quickli': 591,\n",
       " 'purchas': 1988,\n",
       " 'decongest': 19,\n",
       " 'push': 303,\n",
       " 'weight': 1466,\n",
       " 'benefici': 82,\n",
       " 'develop': 169,\n",
       " 'greater': 41,\n",
       " 'muscl': 372,\n",
       " 'tone': 57,\n",
       " 'natur': 1358,\n",
       " 'blend': 237,\n",
       " 'worri': 264,\n",
       " 'lack': 220,\n",
       " 'respect': 52,\n",
       " 'grobro': 1,\n",
       " 'men': 222,\n",
       " 'ladi': 103,\n",
       " 'leari': 3,\n",
       " 'mice': 26,\n",
       " 'leav': 914,\n",
       " 'peppermint': 104,\n",
       " 'hous': 460,\n",
       " 'seen': 325,\n",
       " 'mous': 28,\n",
       " 'month': 1904,\n",
       " 'drop': 640,\n",
       " 'tea': 303,\n",
       " 'kettl': 4,\n",
       " 'morn': 651,\n",
       " 'boil': 61,\n",
       " 'healthi': 452,\n",
       " 'cost': 791,\n",
       " 'exce': 9,\n",
       " 'paya': 1,\n",
       " 'singl': 315,\n",
       " 'oz': 315,\n",
       " 'fruition': 9,\n",
       " 'strawberri': 82,\n",
       " 'equival': 54,\n",
       " 'eat': 1107,\n",
       " 'serv': 391,\n",
       " 'fruit': 263,\n",
       " 'date': 198,\n",
       " 'oat': 14,\n",
       " 'chia': 39,\n",
       " 'seed': 170,\n",
       " 'cashew': 23,\n",
       " 'fill': 355,\n",
       " 'appetit': 343,\n",
       " 'suppress': 133,\n",
       " 'calori': 414,\n",
       " 'gram': 162,\n",
       " 'fiber': 309,\n",
       " 'fat': 520,\n",
       " 'protein': 987,\n",
       " 'dietari': 75,\n",
       " 'howev': 1347,\n",
       " 'also': 3781,\n",
       " 'sugar': 557,\n",
       " 'carbohydr': 36,\n",
       " 'high': 1074,\n",
       " 'rich': 77,\n",
       " 'antioxid': 86,\n",
       " 'vegan': 77,\n",
       " 'non': 105,\n",
       " 'gmo': 54,\n",
       " 'certifi': 78,\n",
       " 'organ': 344,\n",
       " 'qai': 1,\n",
       " 'facil': 24,\n",
       " 'process': 302,\n",
       " 'nut': 140,\n",
       " 'admit': 121,\n",
       " 'skeptic': 129,\n",
       " 'open': 910,\n",
       " 'packag': 1060,\n",
       " 'incred': 117,\n",
       " 'appet': 13,\n",
       " 'immedi': 387,\n",
       " 'thi': 4,\n",
       " 'closest': 43,\n",
       " 'compar': 653,\n",
       " 'origin': 483,\n",
       " 'fig': 8,\n",
       " 'newton': 4,\n",
       " 'lot': 1912,\n",
       " 'beyond': 131,\n",
       " 'granola': 20,\n",
       " 'cereal': 86,\n",
       " 'ca': 1557,\n",
       " 'justifi': 42,\n",
       " 'option': 292,\n",
       " 'basi': 136,\n",
       " 'commit': 27,\n",
       " 'diet': 648,\n",
       " 'factor': 122,\n",
       " 'may': 1544,\n",
       " 'fish': 529,\n",
       " 'oil': 1731,\n",
       " 'supplement': 1768,\n",
       " 'gassi': 18,\n",
       " 'draw': 61,\n",
       " 'back': 2705,\n",
       " 'bottl': 1864,\n",
       " 'daili': 780,\n",
       " 'start': 1802,\n",
       " 'buy': 3030,\n",
       " 'bulksuppl': 23,\n",
       " 'ago': 604,\n",
       " 'vitamin': 1507,\n",
       " 'c': 216,\n",
       " 'e': 139,\n",
       " 'hyaluron': 35,\n",
       " 'acid': 515,\n",
       " 'powder': 774,\n",
       " 'serum': 24,\n",
       " 'skincar': 1,\n",
       " 'wish': 552,\n",
       " 'known': 242,\n",
       " 'absolut': 443,\n",
       " 'adv': 1,\n",
       " 'ii': 35,\n",
       " 'chose': 87,\n",
       " 'enough': 1646,\n",
       " 'ice': 210,\n",
       " 'cream': 746,\n",
       " 'bowl': 193,\n",
       " 'glad': 325,\n",
       " 'got': 2043,\n",
       " 'right': 1404,\n",
       " 'salad': 34,\n",
       " 'sort': 316,\n",
       " 'messi': 114,\n",
       " 'item': 1130,\n",
       " 'sometim': 544,\n",
       " 'outag': 6,\n",
       " 'sever': 1287,\n",
       " 'happen': 569,\n",
       " 'stop': 916,\n",
       " 'watch': 326,\n",
       " 'way': 2332,\n",
       " 'prepar': 105,\n",
       " 'case': 785,\n",
       " 'picnic': 10,\n",
       " 'casual': 15,\n",
       " 'compani': 909,\n",
       " 'meal': 382,\n",
       " 'parti': 54,\n",
       " 'white': 633,\n",
       " 'design': 693,\n",
       " 'gillett': 207,\n",
       " 'fusion': 112,\n",
       " 'dispos': 223,\n",
       " 'break': 401,\n",
       " 'unfortun': 471,\n",
       " 'chang': 1040,\n",
       " 'arm': 356,\n",
       " 'final': 500,\n",
       " 'bright': 162,\n",
       " 'idea': 518,\n",
       " 'search': 245,\n",
       " 'amazon': 1680,\n",
       " 'avid': 14,\n",
       " 'shopper': 23,\n",
       " 'believ': 631,\n",
       " 'long': 1852,\n",
       " 'equal': 127,\n",
       " 'fewer': 45,\n",
       " 'pimpl': 22,\n",
       " 'money': 1573,\n",
       " 'doubl': 327,\n",
       " 'tripl': 89,\n",
       " 'quadrupl': 2,\n",
       " 'quintupl': 1,\n",
       " 'vibrat': 253,\n",
       " 'featur': 373,\n",
       " 'emphat': 2,\n",
       " 'format': 28,\n",
       " 'tough': 118,\n",
       " 'beard': 319,\n",
       " 'finicki': 10,\n",
       " 'suscept': 10,\n",
       " 'burn': 685,\n",
       " 'style': 134,\n",
       " 'requir': 471,\n",
       " 'batteri': 1794,\n",
       " 'cord': 161,\n",
       " 'whatnot': 7,\n",
       " 'lower': 433,\n",
       " 'blood': 629,\n",
       " 'pressur': 537,\n",
       " 'hope': 1063,\n",
       " 'reduc': 415,\n",
       " 'heal': 216,\n",
       " 'liver': 146,\n",
       " 'report': 214,\n",
       " 'benefit': 628,\n",
       " 'cordycep': 5,\n",
       " 'energi': 891,\n",
       " 'level': 626,\n",
       " 'improv': 588,\n",
       " 'stamina': 19,\n",
       " 'wondfo': 16,\n",
       " 'step': 283,\n",
       " 'hcg': 5,\n",
       " 'pregnanc': 56,\n",
       " 'test': 902,\n",
       " 'strip': 456,\n",
       " 'friend': 410,\n",
       " 'satisfi': 242,\n",
       " 'deliv': 184,\n",
       " 'price': 2559,\n",
       " 'eleg': 19,\n",
       " 'wide': 178,\n",
       " 'platform': 10,\n",
       " 'number': 438,\n",
       " 'turn': 771,\n",
       " 'backlit': 6,\n",
       " 'accur': 365,\n",
       " 'need': 3403,\n",
       " 'vinpocetin': 32,\n",
       " 'tabersonin': 1,\n",
       " 'alkaloid': 7,\n",
       " 'extract': 338,\n",
       " 'voacanga': 4,\n",
       " 'vocacanga': 1,\n",
       " 'research': 517,\n",
       " 'internet': 74,\n",
       " 'tropic': 19,\n",
       " 'african': 11,\n",
       " 'tree': 84,\n",
       " 'flower': 46,\n",
       " 'yield': 29,\n",
       " 'berri': 121,\n",
       " 'yellow': 100,\n",
       " 'deriv': 60,\n",
       " 'periwinkl': 2,\n",
       " 'util': 48,\n",
       " 'oxygen': 66,\n",
       " 'almost': 877,\n",
       " 'lol': 103,\n",
       " 'chanc': 228,\n",
       " 'prevent': 351,\n",
       " 'onset': 17,\n",
       " 'alzheim': 24,\n",
       " 'afford': 155,\n",
       " 'keeper': 16,\n",
       " 'arriv': 385,\n",
       " 'fairli': 293,\n",
       " 'suppli': 280,\n",
       " 'trick': 132,\n",
       " 'increas': 446,\n",
       " 'intak': 114,\n",
       " 'gatorad': 15,\n",
       " 'etc': 522,\n",
       " 'fenugreek': 12,\n",
       " 'alreadi': 500,\n",
       " 'decreas': 113,\n",
       " 'bare': 257,\n",
       " 'per': 979,\n",
       " 'breast': 59,\n",
       " 'pump': 177,\n",
       " 'session': 72,\n",
       " 'hesit': 81,\n",
       " 'figur': 420,\n",
       " 'herb': 143,\n",
       " 'mayb': 985,\n",
       " 'order': 1638,\n",
       " 'abl': 792,\n",
       " 'period': 330,\n",
       " 'though': 1180,\n",
       " 'either': 901,\n",
       " 'complain': 141,\n",
       " 'caus': 1001,\n",
       " 'dramat': 43,\n",
       " 'milk': 400,\n",
       " 'thicker': 111,\n",
       " 'heard': 206,\n",
       " 'pill': 1685,\n",
       " 'coupl': 805,\n",
       " 'write': 227,\n",
       " 'reveiw': 3,\n",
       " 'tell': 830,\n",
       " 'ya': 28,\n",
       " 'end': 997,\n",
       " 'version': 425,\n",
       " 'nutrigold': 52,\n",
       " 'taker': 3,\n",
       " 'bodi': 1213,\n",
       " 'bought': 2095,\n",
       " 'ask': 389,\n",
       " 'simpli': 451,\n",
       " 'said': 961,\n",
       " 'ratio': 50,\n",
       " 'read': 1849,\n",
       " 'produc': 299,\n",
       " 'integr': 26,\n",
       " 'glass': 506,\n",
       " 'plastic': 848,\n",
       " 'convinc': 85,\n",
       " 'philosophi': 4,\n",
       " 'excel': 452,\n",
       " 'valu': 419,\n",
       " 'fell': 136,\n",
       " 'diseas': 118,\n",
       " 'girl': 95,\n",
       " 'lip': 403,\n",
       " 'irrit': 513,\n",
       " 'allergen': 23,\n",
       " 'dermatologist': 21,\n",
       " 'prescript': 198,\n",
       " 'balm': 151,\n",
       " 'yet': 558,\n",
       " 'live': 420,\n",
       " 'desert': 20,\n",
       " 'hard': 1320,\n",
       " 'bronner': 4,\n",
       " 'nake': 10,\n",
       " 'formul': 83,\n",
       " 'daughter': 204,\n",
       " 'health': 743,\n",
       " 'food': 1102,\n",
       " 'shop': 161,\n",
       " 'truth': 56,\n",
       " 'consequ': 27,\n",
       " 'nm': 4,\n",
       " 'godsend': 16,\n",
       " 'blistex': 6,\n",
       " 'sens': 260,\n",
       " 'discontinu': 76,\n",
       " 'dixi': 19,\n",
       " 'smaller': 386,\n",
       " 'qualiti': 1309,\n",
       " 'rinsabl': 1,\n",
       " 'set': 921,\n",
       " 'paper': 635,\n",
       " 'plate': 169,\n",
       " 'mother': 147,\n",
       " 'law': 33,\n",
       " 'home': 551,\n",
       " 'bib': 7,\n",
       " 'perfectli': 224,\n",
       " 'thick': 447,\n",
       " 'chewabl': 101,\n",
       " 'tablet': 614,\n",
       " 'delici': 89,\n",
       " 'terrif': 40,\n",
       " 'oral': 162,\n",
       " 'axe': 35,\n",
       " 'antiperspir': 82,\n",
       " 'easili': 748,\n",
       " 'sciatica': 15,\n",
       " 'bad': 1484,\n",
       " 'drive': 115,\n",
       " 'mile': 81,\n",
       " 'cushion': 237,\n",
       " 'firm': 111,\n",
       " 'introduc': 35,\n",
       " 'facial': 134,\n",
       " 'esthetician': 4,\n",
       " 'rave': 62,\n",
       " 'thought': 1311,\n",
       " 'textur': 297,\n",
       " 'small': 1502,\n",
       " 'amount': 788,\n",
       " 'skin': 1834,\n",
       " 'glow': 81,\n",
       " 'derma': 5,\n",
       " 'line': 537,\n",
       " 'favorit': 343,\n",
       " 'diabet': 112,\n",
       " 'carb': 185,\n",
       " 'enemi': 2,\n",
       " 'occas': 83,\n",
       " 'consum': 353,\n",
       " 'spike': 34,\n",
       " 'gl': 3,\n",
       " 'consid': 466,\n",
       " 'medium': 129,\n",
       " 'throughout': 162,\n",
       " 'larg': 748,\n",
       " 'swallow': 452,\n",
       " 'big': 1045,\n",
       " 'horsepil': 1,\n",
       " 'upset': 186,\n",
       " 'stomach': 644,\n",
       " 'stinkin': 1,\n",
       " 'toothbrush': 591,\n",
       " 'teeth': 955,\n",
       " 'geez': 2,\n",
       " 'return': 886,\n",
       " 'touch': 305,\n",
       " 'sonicar': 219,\n",
       " 'hell': 56,\n",
       " 'whiter': 34,\n",
       " 'icki': 25,\n",
       " 'grimi': 9,\n",
       " 'leftov': 32,\n",
       " 'practic': 158,\n",
       " 'past': 575,\n",
       " 'tooth': 172,\n",
       " 'stick': 820,\n",
       " 'nice': 1605,\n",
       " 'replac': 1107,\n",
       " 'lead': 160,\n",
       " 'iron': 201,\n",
       " 'sensit': 693,\n",
       " 'real': 579,\n",
       " 'sell': 295,\n",
       " 'point': 615,\n",
       " 'mere': 49,\n",
       " 'fraction': 49,\n",
       " 'cours': 359,\n",
       " 'save': 772,\n",
       " 'artifici': 188,\n",
       " 'flavor': 1163,\n",
       " 'multi': 89,\n",
       " 'overal': 417,\n",
       " 'male': 56,\n",
       " 'nose': 418,\n",
       " 'grow': 202,\n",
       " 'panason': 224,\n",
       " 'trimmer': 595,\n",
       " 'die': 190,\n",
       " 'andi': 11,\n",
       " 'terribl': 327,\n",
       " 'third': 205,\n",
       " 'correctli': 100,\n",
       " 'ye': 370,\n",
       " 'trim': 303,\n",
       " 'effort': 125,\n",
       " 'pull': 451,\n",
       " 'frustrat': 110,\n",
       " 'slight': 173,\n",
       " 'curv': 75,\n",
       " 'maneuv': 30,\n",
       " 'nostril': 32,\n",
       " 'sturdier': 18,\n",
       " 'updat': 344,\n",
       " 'futur': 157,\n",
       " 'forese': 5,\n",
       " 'tightwad': 1,\n",
       " 'life': 651,\n",
       " 'store': 1033,\n",
       " 'chip': 70,\n",
       " 'dip': 42,\n",
       " 'aid': 377,\n",
       " 'target': 88,\n",
       " 'btw': 35,\n",
       " 'skimp': 6,\n",
       " 'consist': 346,\n",
       " 'marri': 7,\n",
       " 'tight': 255,\n",
       " 'gain': 218,\n",
       " 'washer': 158,\n",
       " 'cleaner': 481,\n",
       " 'opinion': 330,\n",
       " 'plu': 607,\n",
       " 'downi': 41,\n",
       " 'april': 33,\n",
       " 'exactli': 420,\n",
       " 'soften': 201,\n",
       " 'liquid': 518,\n",
       " 'rare': 119,\n",
       " 'wrong': 400,\n",
       " 'pleas': 608,\n",
       " 'door': 198,\n",
       " 'gel': 793,\n",
       " 'radio': 30,\n",
       " 'frequenc': 30,\n",
       " 'procedur': 31,\n",
       " 'describ': 219,\n",
       " 'low': 639,\n",
       " 'foam': 268,\n",
       " 'gone': 381,\n",
       " 'billow': 1,\n",
       " 'cloud': 17,\n",
       " 'protect': 373,\n",
       " 'instead': 745,\n",
       " 'provid': 754,\n",
       " 'thin': 373,\n",
       " 'layer': 88,\n",
       " 'sooth': 147,\n",
       " 'menthol': 99,\n",
       " 'crisp': 27,\n",
       " 'invigor': 7,\n",
       " 'pain': 1688,\n",
       " 'raw': 110,\n",
       " 'excess': 91,\n",
       " 'unless': 378,\n",
       " 'pile': 21,\n",
       " 'clinic': 153,\n",
       " 'vari': 131,\n",
       " 'success': 195,\n",
       " 'short': 479,\n",
       " 'bother': 229,\n",
       " 'difficult': 477,\n",
       " 'appli': 599,\n",
       " 'powderi': 31,\n",
       " 'mess': 254,\n",
       " 'applic': 319,\n",
       " 'degre': 173,\n",
       " 'residu': 246,\n",
       " 'remov': 963,\n",
       " 'lid': 148,\n",
       " 'whether': 279,\n",
       " 'reliev': 209,\n",
       " 'remain': 174,\n",
       " 'sweat': 284,\n",
       " 'proven': 76,\n",
       " 'continu': 671,\n",
       " 'note': 380,\n",
       " 'indic': 251,\n",
       " 'hour': 1174,\n",
       " 'worth': 943,\n",
       " 'bargain': 63,\n",
       " 'halo': 7,\n",
       " 'seal': 219,\n",
       " 'paramed': 4,\n",
       " 'realiz': 310,\n",
       " 'asherman': 2,\n",
       " 'popular': 57,\n",
       " 'chest': 149,\n",
       " 'gauz': 49,\n",
       " 'petroleum': 47,\n",
       " 'jelli': 44,\n",
       " 'foil': 174,\n",
       " 'wrapper': 42,\n",
       " 'slap': 13,\n",
       " 'hole': 155,\n",
       " 'secur': 135,\n",
       " 'tape': 203,\n",
       " 'sticki': 272,\n",
       " 'bandag': 213,\n",
       " 'cover': 494,\n",
       " 'creat': 201,\n",
       " 'airtight': 3,\n",
       " 'valv': 9,\n",
       " 'pair': 303,\n",
       " 'decompress': 4,\n",
       " 'needl': 50,\n",
       " 'mani': 1691,\n",
       " 'import': 305,\n",
       " 'came': 790,\n",
       " 'newer': 52,\n",
       " 'situat': 109,\n",
       " 'fashion': 68,\n",
       " 'pneumothorax': 2,\n",
       " 'present': 108,\n",
       " 'conjunct': 40,\n",
       " 'crucial': 16,\n",
       " 'bullet': 24,\n",
       " 'exit': 7,\n",
       " 'wound': 105,\n",
       " 'therefor': 146,\n",
       " 'movi': 18,\n",
       " 'three': 808,\n",
       " 'king': 44,\n",
       " 'mark': 218,\n",
       " 'wahlberg': 3,\n",
       " 'georg': 4,\n",
       " 'clooney': 1,\n",
       " 'outstand': 31,\n",
       " 'scene': 8,\n",
       " 'experi': 778,\n",
       " 'tension': 54,\n",
       " 'explain': 108,\n",
       " 'condit': 217,\n",
       " 'video': 45,\n",
       " 'youtub': 25,\n",
       " 'k': 46,\n",
       " 'everyth': 534,\n",
       " 'thank': 442,\n",
       " 'god': 58,\n",
       " 'pack': 871,\n",
       " 'twelv': 19,\n",
       " 'quarter': 43,\n",
       " 'ought': 17,\n",
       " 'scraper': 15,\n",
       " 'longer': 819,\n",
       " 'bleed': 72,\n",
       " 'minut': 1055,\n",
       " 'ok': 368,\n",
       " 'possibl': 420,\n",
       " 'moment': 88,\n",
       " 'schick': 73,\n",
       " 'yeahman': 1,\n",
       " 'herein': 1,\n",
       " 'throat': 188,\n",
       " 'slash': 4,\n",
       " 'access': 49,\n",
       " 'avail': 383,\n",
       " 'generousand': 1,\n",
       " 'menmen': 1,\n",
       " 'especi': 654,\n",
       " 'earli': 123,\n",
       " 'us': 477,\n",
       " 'handl': 692,\n",
       " 'tear': 152,\n",
       " 'neighbor': 33,\n",
       " 'nohesit': 1,\n",
       " 'ab': 10,\n",
       " 'outsid': 195,\n",
       " 'ofmi': 2,\n",
       " ...}"
      ]
     },
     "execution_count": 17,
     "metadata": {},
     "output_type": "execute_result"
    }
   ],
   "source": [
    "#Creating table of 500 most common words\n",
    "word_freq = {}\n",
    "for review in new_reviews['reviewText']:\n",
    "    for word in review.split(' '):\n",
    "        if word not in word_freq.keys():\n",
    "            word_freq[word] = 1\n",
    "        else:\n",
    "            word_freq[word] += 1\n",
    "word_freq"
   ]
  },
  {
   "cell_type": "code",
   "execution_count": 18,
   "metadata": {},
   "outputs": [
    {
     "data": {
      "text/plain": [
       "['use',\n",
       " 'product',\n",
       " 'like',\n",
       " 'one',\n",
       " 'work',\n",
       " 'get',\n",
       " 'would',\n",
       " 'tri',\n",
       " 'take',\n",
       " 'good',\n",
       " 'time',\n",
       " 'day',\n",
       " 'well',\n",
       " 'realli',\n",
       " 'great',\n",
       " 'much',\n",
       " 'make',\n",
       " 'also',\n",
       " 'even',\n",
       " 'feel',\n",
       " 'go',\n",
       " 'better',\n",
       " 'need',\n",
       " 'help',\n",
       " 'recommend',\n",
       " 'buy',\n",
       " 'review',\n",
       " 'tast',\n",
       " 'first',\n",
       " 'clean',\n",
       " 'shave',\n",
       " 'could',\n",
       " 'thing',\n",
       " 'look',\n",
       " 'year',\n",
       " 'back',\n",
       " 'say',\n",
       " 'want',\n",
       " 'littl',\n",
       " 'seem',\n",
       " 'differ',\n",
       " 'price',\n",
       " 'give',\n",
       " 'smell',\n",
       " 'two',\n",
       " 'think',\n",
       " 'way',\n",
       " 'know',\n",
       " 'still',\n",
       " 'water',\n",
       " 'brand',\n",
       " 'see',\n",
       " 'bought',\n",
       " 'keep',\n",
       " 'last',\n",
       " 'razor',\n",
       " 'got',\n",
       " 'effect',\n",
       " 'purchas',\n",
       " 'love',\n",
       " 'put',\n",
       " 'find',\n",
       " 'come',\n",
       " 'week',\n",
       " 'lot',\n",
       " 'month',\n",
       " 'found',\n",
       " 'sinc',\n",
       " 'bottl',\n",
       " 'problem',\n",
       " 'long',\n",
       " 'read',\n",
       " 'made',\n",
       " 'skin',\n",
       " 'start',\n",
       " 'batteri',\n",
       " 'someth',\n",
       " 'easi',\n",
       " 'supplement',\n",
       " 'never',\n",
       " 'oil',\n",
       " 'hair',\n",
       " 'sure',\n",
       " 'notic',\n",
       " 'mani',\n",
       " 'pain',\n",
       " 'pill',\n",
       " 'amazon',\n",
       " 'enough',\n",
       " 'order',\n",
       " 'nice',\n",
       " 'brush',\n",
       " 'money',\n",
       " 'without',\n",
       " 'ca',\n",
       " 'may',\n",
       " 'best',\n",
       " 'everi',\n",
       " 'less',\n",
       " 'vitamin',\n",
       " 'small',\n",
       " 'actual',\n",
       " 'bit',\n",
       " 'bad',\n",
       " 'peopl',\n",
       " 'weight',\n",
       " 'anoth',\n",
       " 'size',\n",
       " 'right',\n",
       " 'new',\n",
       " 'stuff',\n",
       " 'blade',\n",
       " 'head',\n",
       " 'natur',\n",
       " 'howev',\n",
       " 'result',\n",
       " 'around',\n",
       " 'noth',\n",
       " 'hard',\n",
       " 'thought',\n",
       " 'qualiti',\n",
       " 'sever',\n",
       " 'bar',\n",
       " 'anyth',\n",
       " 'scent',\n",
       " 'light',\n",
       " 'far',\n",
       " 'alway',\n",
       " 'took',\n",
       " 'bodi',\n",
       " 'hand',\n",
       " 'pretti',\n",
       " 'contain',\n",
       " 'though',\n",
       " 'hour',\n",
       " 'flavor',\n",
       " 'might',\n",
       " 'dri',\n",
       " 'item',\n",
       " 'cut',\n",
       " 'ingredi',\n",
       " 'star',\n",
       " 'eat',\n",
       " 'replac',\n",
       " 'sleep',\n",
       " 'old',\n",
       " 'food',\n",
       " 'side',\n",
       " 'high',\n",
       " 'box',\n",
       " 'hope',\n",
       " 'packag',\n",
       " 'minut',\n",
       " 'away',\n",
       " 'quit',\n",
       " 'big',\n",
       " 'chang',\n",
       " 'store',\n",
       " 'night',\n",
       " 'fit',\n",
       " 'caus',\n",
       " 'end',\n",
       " 'expens',\n",
       " 'job',\n",
       " 'protein',\n",
       " 'mayb',\n",
       " 'per',\n",
       " 'remov',\n",
       " 'said',\n",
       " 'teeth',\n",
       " 'issu',\n",
       " 'reason',\n",
       " 'face',\n",
       " 'worth',\n",
       " 'expect',\n",
       " 'definit',\n",
       " 'shaver',\n",
       " 'wash',\n",
       " 'drink',\n",
       " 'cloth',\n",
       " 'set',\n",
       " 'care',\n",
       " 'stop',\n",
       " 'felt',\n",
       " 'leav',\n",
       " 'open',\n",
       " 'compani',\n",
       " 'test',\n",
       " 'either',\n",
       " 'probabl',\n",
       " 'place',\n",
       " 'close',\n",
       " 'least',\n",
       " 'charg',\n",
       " 'energi',\n",
       " 'return',\n",
       " 'capsul',\n",
       " 'wast',\n",
       " 'hold',\n",
       " 'almost',\n",
       " 'pack',\n",
       " 'ever',\n",
       " 'strong',\n",
       " 'part',\n",
       " 'decid',\n",
       " 'plastic',\n",
       " 'stay',\n",
       " 'run',\n",
       " 'regular',\n",
       " 'tell',\n",
       " 'went',\n",
       " 'usual',\n",
       " 'area',\n",
       " 'stick',\n",
       " 'mix',\n",
       " 'wear',\n",
       " 'longer',\n",
       " 'comfort',\n",
       " 'unit',\n",
       " 'second',\n",
       " 'kind',\n",
       " 'three',\n",
       " 'coupl',\n",
       " 'let',\n",
       " 'wo',\n",
       " 'disappoint',\n",
       " 'gel',\n",
       " 'abl',\n",
       " 'cost',\n",
       " 'free',\n",
       " 'came',\n",
       " 'amount',\n",
       " 'case',\n",
       " 'other',\n",
       " 'person',\n",
       " 'daili',\n",
       " 'experi',\n",
       " 'powder',\n",
       " 'gave',\n",
       " 'save',\n",
       " 'top',\n",
       " 'fine',\n",
       " 'turn',\n",
       " 'bag',\n",
       " 'provid',\n",
       " 'soft',\n",
       " 'fact',\n",
       " 'easili',\n",
       " 'larg',\n",
       " 'cream',\n",
       " 'instead',\n",
       " 'health',\n",
       " 'happi',\n",
       " 'type',\n",
       " 'rate',\n",
       " 'pad',\n",
       " 'receiv',\n",
       " 'normal',\n",
       " 'cheap',\n",
       " 'eye',\n",
       " 'design',\n",
       " 'sensit',\n",
       " 'full',\n",
       " 'handl',\n",
       " 'highli',\n",
       " 'burn',\n",
       " 'power',\n",
       " 'doctor',\n",
       " 'suppos',\n",
       " 'wonder',\n",
       " 'continu',\n",
       " 'includ',\n",
       " 'next',\n",
       " 'complet',\n",
       " 'mean',\n",
       " 'base',\n",
       " 'left',\n",
       " 'husband',\n",
       " 'support',\n",
       " 'especi',\n",
       " 'compar',\n",
       " 'extra',\n",
       " 'morn',\n",
       " 'life',\n",
       " 'diet',\n",
       " 'anyon',\n",
       " 'stomach',\n",
       " 'magnesium',\n",
       " 'half',\n",
       " 'drop',\n",
       " 'low',\n",
       " 'paper',\n",
       " 'gener',\n",
       " 'white',\n",
       " 'believ',\n",
       " 'mouth',\n",
       " 'blood',\n",
       " 'cold',\n",
       " 'benefit',\n",
       " 'devic',\n",
       " 'level',\n",
       " 'stain',\n",
       " 'ad',\n",
       " 'els',\n",
       " 'point',\n",
       " 'tablet',\n",
       " 'pleas',\n",
       " 'plu',\n",
       " 'ago',\n",
       " 'add',\n",
       " 'lose',\n",
       " 'appli',\n",
       " 'spray',\n",
       " 'trimmer',\n",
       " 'quickli',\n",
       " 'toothbrush',\n",
       " 'done',\n",
       " 'roll',\n",
       " 'improv',\n",
       " 'must',\n",
       " 'mg',\n",
       " 'color',\n",
       " 'heat',\n",
       " 'scale',\n",
       " 'real',\n",
       " 'electr',\n",
       " 'past',\n",
       " 'direct',\n",
       " 'posit',\n",
       " 'follow',\n",
       " 'happen',\n",
       " 'rather',\n",
       " 'deal',\n",
       " 'yet',\n",
       " 'sugar',\n",
       " 'guess',\n",
       " 'wish',\n",
       " 'home',\n",
       " 'leg',\n",
       " 'deterg',\n",
       " 'sometim',\n",
       " 'perfect',\n",
       " 'model',\n",
       " 'pressur',\n",
       " 'line',\n",
       " 'whole',\n",
       " 'everyth',\n",
       " 'pay',\n",
       " 'soap',\n",
       " 'fish',\n",
       " 'system',\n",
       " 'move',\n",
       " 'ship',\n",
       " 'feet',\n",
       " 'someon',\n",
       " 'instruct',\n",
       " 'etc',\n",
       " 'suggest',\n",
       " 'cheaper',\n",
       " 'fat',\n",
       " 'list',\n",
       " 'idea',\n",
       " 'liquid',\n",
       " 'within',\n",
       " 'check',\n",
       " 'research',\n",
       " 'claim',\n",
       " 'acid',\n",
       " 'irrit',\n",
       " 'although',\n",
       " 'insid',\n",
       " 'show',\n",
       " 'goe',\n",
       " 'glass',\n",
       " 'addit',\n",
       " 'label',\n",
       " 'due',\n",
       " 'chemic',\n",
       " 'final',\n",
       " 'alreadi',\n",
       " 'relief',\n",
       " 'wife',\n",
       " 'cover',\n",
       " 'taken',\n",
       " 'total',\n",
       " 'hot',\n",
       " 'fresh',\n",
       " 'dose',\n",
       " 'prefer',\n",
       " 'extrem',\n",
       " 'call',\n",
       " 'often',\n",
       " 'later',\n",
       " 'origin',\n",
       " 'deodor',\n",
       " 'cleaner',\n",
       " 'wax',\n",
       " 'short',\n",
       " 'difficult',\n",
       " 'us',\n",
       " 'shower',\n",
       " 'sound',\n",
       " 'smooth',\n",
       " 'green',\n",
       " 'unfortun',\n",
       " 'requir',\n",
       " 'medic',\n",
       " 'wet',\n",
       " 'switch',\n",
       " 'consid',\n",
       " 'allow',\n",
       " 'twice',\n",
       " 'clear',\n",
       " 'fall',\n",
       " 'piec',\n",
       " 'loss',\n",
       " 'control',\n",
       " 'hous',\n",
       " 'sit',\n",
       " 'toilet',\n",
       " 'strip',\n",
       " 'cup',\n",
       " 'form',\n",
       " 'healthi',\n",
       " 'excel',\n",
       " 'swallow',\n",
       " 'simpli',\n",
       " 'pull',\n",
       " 'finish',\n",
       " 'thick',\n",
       " 'increas',\n",
       " 'wipe',\n",
       " 'chocol',\n",
       " 'absolut',\n",
       " 'thank',\n",
       " 'pick',\n",
       " 'bed',\n",
       " 'fast',\n",
       " 'number',\n",
       " 'market',\n",
       " 'easier',\n",
       " 'state',\n",
       " 'bottom',\n",
       " 'room',\n",
       " 'lower',\n",
       " 'attach',\n",
       " 'hurt',\n",
       " 'saw',\n",
       " 'floor',\n",
       " 'version',\n",
       " 'red',\n",
       " 'towel',\n",
       " 'manufactur',\n",
       " 'figur',\n",
       " 'live',\n",
       " 'exactli',\n",
       " 'possibl',\n",
       " 'similar',\n",
       " 'valu',\n",
       " 'pound',\n",
       " 'nose',\n",
       " 'overal',\n",
       " 'bathroom',\n",
       " 'reduc',\n",
       " 'along',\n",
       " 'stand',\n",
       " 'calori',\n",
       " 'formula',\n",
       " 'machin',\n",
       " 'kid',\n",
       " 'friend',\n",
       " 'heavi',\n",
       " 'surpris',\n",
       " 'wors',\n",
       " 'heart',\n",
       " 'adjust',\n",
       " 'lip',\n",
       " 'super',\n",
       " 'knee',\n",
       " 'break',\n",
       " 'milk',\n",
       " 'wrong',\n",
       " 'offer',\n",
       " 'kit',\n",
       " 'wait',\n",
       " 'entir',\n",
       " 'gum',\n",
       " 'ear',\n",
       " 'lost',\n",
       " 'rins',\n",
       " 'basic',\n",
       " 'name',\n",
       " 'serv',\n",
       " 'huge',\n",
       " 'ask',\n",
       " 'monitor',\n",
       " 'immedi',\n",
       " 'smaller',\n",
       " 'arriv',\n",
       " 'avail']"
      ]
     },
     "execution_count": 18,
     "metadata": {},
     "output_type": "execute_result"
    }
   ],
   "source": [
    "word_vector = heapq.nlargest(500, word_freq, key=word_freq.get)\n",
    "word_vector"
   ]
  },
  {
   "cell_type": "code",
   "execution_count": 19,
   "metadata": {},
   "outputs": [],
   "source": [
    "def word_vectors(review):\n",
    "    review_vec = []\n",
    "    for word in word_vector:\n",
    "        if word in review.split(' '):\n",
    "            review_vec.append(1)\n",
    "        else:\n",
    "            review_vec.append(0)\n",
    "    return review_vec"
   ]
  },
  {
   "cell_type": "code",
   "execution_count": 20,
   "metadata": {
    "scrolled": true
   },
   "outputs": [
    {
     "name": "stderr",
     "output_type": "stream",
     "text": [
      "100%|██████████| 20000/20000 [00:25<00:00, 777.41it/s]\n"
     ]
    }
   ],
   "source": [
    "new_reviews[\"bagofwords\"] = new_reviews[\"reviewText\"].progress_apply(word_vectors)"
   ]
  },
  {
   "cell_type": "code",
   "execution_count": 21,
   "metadata": {},
   "outputs": [
    {
     "data": {
      "text/html": [
       "<div>\n",
       "<style scoped>\n",
       "    .dataframe tbody tr th:only-of-type {\n",
       "        vertical-align: middle;\n",
       "    }\n",
       "\n",
       "    .dataframe tbody tr th {\n",
       "        vertical-align: top;\n",
       "    }\n",
       "\n",
       "    .dataframe thead th {\n",
       "        text-align: right;\n",
       "    }\n",
       "</style>\n",
       "<table border=\"1\" class=\"dataframe\">\n",
       "  <thead>\n",
       "    <tr style=\"text-align: right;\">\n",
       "      <th></th>\n",
       "      <th>reviewerID</th>\n",
       "      <th>reviewText</th>\n",
       "      <th>overall</th>\n",
       "      <th>sentiment</th>\n",
       "      <th>bagofwords</th>\n",
       "    </tr>\n",
       "  </thead>\n",
       "  <tbody>\n",
       "    <tr>\n",
       "      <td>148308</td>\n",
       "      <td>A2MU3FLFSWW4TD</td>\n",
       "      <td>use pay twice much network market scheme man i...</td>\n",
       "      <td>5.0</td>\n",
       "      <td>1.0</td>\n",
       "      <td>[1, 0, 0, 0, 0, 0, 0, 0, 0, 0, 0, 0, 0, 0, 0, ...</td>\n",
       "    </tr>\n",
       "    <tr>\n",
       "      <td>14870</td>\n",
       "      <td>A2WL9KZ9JXRTHQ</td>\n",
       "      <td>make great product yogurt quit tasti clean fre...</td>\n",
       "      <td>5.0</td>\n",
       "      <td>1.0</td>\n",
       "      <td>[1, 1, 1, 0, 0, 1, 0, 0, 0, 0, 0, 0, 0, 0, 1, ...</td>\n",
       "    </tr>\n",
       "    <tr>\n",
       "      <td>315518</td>\n",
       "      <td>A27GPXG538KWHU</td>\n",
       "      <td>use anoth major brand omega capsul decid tri d...</td>\n",
       "      <td>5.0</td>\n",
       "      <td>1.0</td>\n",
       "      <td>[1, 0, 1, 0, 0, 1, 0, 1, 0, 0, 0, 0, 0, 0, 0, ...</td>\n",
       "    </tr>\n",
       "    <tr>\n",
       "      <td>196317</td>\n",
       "      <td>A4E9H23O2Q9SR</td>\n",
       "      <td>like thing pretti comfort definit add support ...</td>\n",
       "      <td>4.0</td>\n",
       "      <td>1.0</td>\n",
       "      <td>[1, 0, 1, 1, 1, 0, 1, 0, 1, 0, 0, 1, 0, 0, 1, ...</td>\n",
       "    </tr>\n",
       "    <tr>\n",
       "      <td>269638</td>\n",
       "      <td>A27Q1X75QCWTID</td>\n",
       "      <td>usual use mach kind razor excit tri girli razo...</td>\n",
       "      <td>4.0</td>\n",
       "      <td>1.0</td>\n",
       "      <td>[1, 1, 1, 1, 0, 0, 0, 1, 0, 0, 1, 0, 1, 0, 0, ...</td>\n",
       "    </tr>\n",
       "  </tbody>\n",
       "</table>\n",
       "</div>"
      ],
      "text/plain": [
       "            reviewerID                                         reviewText  \\\n",
       "148308  A2MU3FLFSWW4TD  use pay twice much network market scheme man i...   \n",
       "14870   A2WL9KZ9JXRTHQ  make great product yogurt quit tasti clean fre...   \n",
       "315518  A27GPXG538KWHU  use anoth major brand omega capsul decid tri d...   \n",
       "196317   A4E9H23O2Q9SR  like thing pretti comfort definit add support ...   \n",
       "269638  A27Q1X75QCWTID  usual use mach kind razor excit tri girli razo...   \n",
       "\n",
       "        overall  sentiment                                         bagofwords  \n",
       "148308      5.0        1.0  [1, 0, 0, 0, 0, 0, 0, 0, 0, 0, 0, 0, 0, 0, 0, ...  \n",
       "14870       5.0        1.0  [1, 1, 1, 0, 0, 1, 0, 0, 0, 0, 0, 0, 0, 0, 1, ...  \n",
       "315518      5.0        1.0  [1, 0, 1, 0, 0, 1, 0, 1, 0, 0, 0, 0, 0, 0, 0, ...  \n",
       "196317      4.0        1.0  [1, 0, 1, 1, 1, 0, 1, 0, 1, 0, 0, 1, 0, 0, 1, ...  \n",
       "269638      4.0        1.0  [1, 1, 1, 1, 0, 0, 0, 1, 0, 0, 1, 0, 1, 0, 0, ...  "
      ]
     },
     "execution_count": 21,
     "metadata": {},
     "output_type": "execute_result"
    }
   ],
   "source": [
    "new_reviews.head()"
   ]
  },
  {
   "cell_type": "code",
   "execution_count": 22,
   "metadata": {},
   "outputs": [],
   "source": [
    "bagofwords = pd.DataFrame(new_reviews[\"bagofwords\"].values.tolist(),columns = word_vector,index = new_reviews[\"reviewerID\"])"
   ]
  },
  {
   "cell_type": "code",
   "execution_count": 23,
   "metadata": {},
   "outputs": [
    {
     "data": {
      "text/html": [
       "<div>\n",
       "<style scoped>\n",
       "    .dataframe tbody tr th:only-of-type {\n",
       "        vertical-align: middle;\n",
       "    }\n",
       "\n",
       "    .dataframe tbody tr th {\n",
       "        vertical-align: top;\n",
       "    }\n",
       "\n",
       "    .dataframe thead th {\n",
       "        text-align: right;\n",
       "    }\n",
       "</style>\n",
       "<table border=\"1\" class=\"dataframe\">\n",
       "  <thead>\n",
       "    <tr style=\"text-align: right;\">\n",
       "      <th></th>\n",
       "      <th>use</th>\n",
       "      <th>product</th>\n",
       "      <th>like</th>\n",
       "      <th>one</th>\n",
       "      <th>work</th>\n",
       "      <th>get</th>\n",
       "      <th>would</th>\n",
       "      <th>tri</th>\n",
       "      <th>take</th>\n",
       "      <th>good</th>\n",
       "      <th>...</th>\n",
       "      <th>basic</th>\n",
       "      <th>name</th>\n",
       "      <th>serv</th>\n",
       "      <th>huge</th>\n",
       "      <th>ask</th>\n",
       "      <th>monitor</th>\n",
       "      <th>immedi</th>\n",
       "      <th>smaller</th>\n",
       "      <th>arriv</th>\n",
       "      <th>avail</th>\n",
       "    </tr>\n",
       "    <tr>\n",
       "      <th>reviewerID</th>\n",
       "      <th></th>\n",
       "      <th></th>\n",
       "      <th></th>\n",
       "      <th></th>\n",
       "      <th></th>\n",
       "      <th></th>\n",
       "      <th></th>\n",
       "      <th></th>\n",
       "      <th></th>\n",
       "      <th></th>\n",
       "      <th></th>\n",
       "      <th></th>\n",
       "      <th></th>\n",
       "      <th></th>\n",
       "      <th></th>\n",
       "      <th></th>\n",
       "      <th></th>\n",
       "      <th></th>\n",
       "      <th></th>\n",
       "      <th></th>\n",
       "      <th></th>\n",
       "    </tr>\n",
       "  </thead>\n",
       "  <tbody>\n",
       "    <tr>\n",
       "      <td>A2MU3FLFSWW4TD</td>\n",
       "      <td>1</td>\n",
       "      <td>0</td>\n",
       "      <td>0</td>\n",
       "      <td>0</td>\n",
       "      <td>0</td>\n",
       "      <td>0</td>\n",
       "      <td>0</td>\n",
       "      <td>0</td>\n",
       "      <td>0</td>\n",
       "      <td>0</td>\n",
       "      <td>...</td>\n",
       "      <td>0</td>\n",
       "      <td>0</td>\n",
       "      <td>0</td>\n",
       "      <td>0</td>\n",
       "      <td>0</td>\n",
       "      <td>0</td>\n",
       "      <td>0</td>\n",
       "      <td>0</td>\n",
       "      <td>0</td>\n",
       "      <td>0</td>\n",
       "    </tr>\n",
       "    <tr>\n",
       "      <td>A2WL9KZ9JXRTHQ</td>\n",
       "      <td>1</td>\n",
       "      <td>1</td>\n",
       "      <td>1</td>\n",
       "      <td>0</td>\n",
       "      <td>0</td>\n",
       "      <td>1</td>\n",
       "      <td>0</td>\n",
       "      <td>0</td>\n",
       "      <td>0</td>\n",
       "      <td>0</td>\n",
       "      <td>...</td>\n",
       "      <td>0</td>\n",
       "      <td>0</td>\n",
       "      <td>0</td>\n",
       "      <td>0</td>\n",
       "      <td>0</td>\n",
       "      <td>0</td>\n",
       "      <td>0</td>\n",
       "      <td>0</td>\n",
       "      <td>0</td>\n",
       "      <td>0</td>\n",
       "    </tr>\n",
       "    <tr>\n",
       "      <td>A27GPXG538KWHU</td>\n",
       "      <td>1</td>\n",
       "      <td>0</td>\n",
       "      <td>1</td>\n",
       "      <td>0</td>\n",
       "      <td>0</td>\n",
       "      <td>1</td>\n",
       "      <td>0</td>\n",
       "      <td>1</td>\n",
       "      <td>0</td>\n",
       "      <td>0</td>\n",
       "      <td>...</td>\n",
       "      <td>0</td>\n",
       "      <td>0</td>\n",
       "      <td>0</td>\n",
       "      <td>0</td>\n",
       "      <td>0</td>\n",
       "      <td>0</td>\n",
       "      <td>0</td>\n",
       "      <td>0</td>\n",
       "      <td>0</td>\n",
       "      <td>0</td>\n",
       "    </tr>\n",
       "    <tr>\n",
       "      <td>A4E9H23O2Q9SR</td>\n",
       "      <td>1</td>\n",
       "      <td>0</td>\n",
       "      <td>1</td>\n",
       "      <td>1</td>\n",
       "      <td>1</td>\n",
       "      <td>0</td>\n",
       "      <td>1</td>\n",
       "      <td>0</td>\n",
       "      <td>1</td>\n",
       "      <td>0</td>\n",
       "      <td>...</td>\n",
       "      <td>0</td>\n",
       "      <td>0</td>\n",
       "      <td>0</td>\n",
       "      <td>0</td>\n",
       "      <td>0</td>\n",
       "      <td>0</td>\n",
       "      <td>0</td>\n",
       "      <td>0</td>\n",
       "      <td>0</td>\n",
       "      <td>0</td>\n",
       "    </tr>\n",
       "    <tr>\n",
       "      <td>A27Q1X75QCWTID</td>\n",
       "      <td>1</td>\n",
       "      <td>1</td>\n",
       "      <td>1</td>\n",
       "      <td>1</td>\n",
       "      <td>0</td>\n",
       "      <td>0</td>\n",
       "      <td>0</td>\n",
       "      <td>1</td>\n",
       "      <td>0</td>\n",
       "      <td>0</td>\n",
       "      <td>...</td>\n",
       "      <td>0</td>\n",
       "      <td>0</td>\n",
       "      <td>0</td>\n",
       "      <td>0</td>\n",
       "      <td>0</td>\n",
       "      <td>0</td>\n",
       "      <td>0</td>\n",
       "      <td>0</td>\n",
       "      <td>0</td>\n",
       "      <td>0</td>\n",
       "    </tr>\n",
       "  </tbody>\n",
       "</table>\n",
       "<p>5 rows × 500 columns</p>\n",
       "</div>"
      ],
      "text/plain": [
       "                use  product  like  one  work  get  would  tri  take  good  \\\n",
       "reviewerID                                                                   \n",
       "A2MU3FLFSWW4TD    1        0     0    0     0    0      0    0     0     0   \n",
       "A2WL9KZ9JXRTHQ    1        1     1    0     0    1      0    0     0     0   \n",
       "A27GPXG538KWHU    1        0     1    0     0    1      0    1     0     0   \n",
       "A4E9H23O2Q9SR     1        0     1    1     1    0      1    0     1     0   \n",
       "A27Q1X75QCWTID    1        1     1    1     0    0      0    1     0     0   \n",
       "\n",
       "                ...  basic  name  serv  huge  ask  monitor  immedi  smaller  \\\n",
       "reviewerID      ...                                                           \n",
       "A2MU3FLFSWW4TD  ...      0     0     0     0    0        0       0        0   \n",
       "A2WL9KZ9JXRTHQ  ...      0     0     0     0    0        0       0        0   \n",
       "A27GPXG538KWHU  ...      0     0     0     0    0        0       0        0   \n",
       "A4E9H23O2Q9SR   ...      0     0     0     0    0        0       0        0   \n",
       "A27Q1X75QCWTID  ...      0     0     0     0    0        0       0        0   \n",
       "\n",
       "                arriv  avail  \n",
       "reviewerID                    \n",
       "A2MU3FLFSWW4TD      0      0  \n",
       "A2WL9KZ9JXRTHQ      0      0  \n",
       "A27GPXG538KWHU      0      0  \n",
       "A4E9H23O2Q9SR       0      0  \n",
       "A27Q1X75QCWTID      0      0  \n",
       "\n",
       "[5 rows x 500 columns]"
      ]
     },
     "execution_count": 23,
     "metadata": {},
     "output_type": "execute_result"
    }
   ],
   "source": [
    "bagofwords.head()"
   ]
  },
  {
   "cell_type": "markdown",
   "metadata": {},
   "source": [
    "### TF-IDF"
   ]
  },
  {
   "cell_type": "code",
   "execution_count": 24,
   "metadata": {},
   "outputs": [],
   "source": [
    "vectorizer_tfidf = TfidfVectorizer(max_df=0.9)\n",
    "tfidf = vectorizer_tfidf.fit_transform(new_reviews[\"reviewText\"])"
   ]
  },
  {
   "cell_type": "code",
   "execution_count": 25,
   "metadata": {},
   "outputs": [
    {
     "data": {
      "text/plain": [
       "<20000x20720 sparse matrix of type '<class 'numpy.float64'>'\n",
       "\twith 717936 stored elements in Compressed Sparse Row format>"
      ]
     },
     "execution_count": 25,
     "metadata": {},
     "output_type": "execute_result"
    }
   ],
   "source": [
    "tfidf"
   ]
  },
  {
   "cell_type": "markdown",
   "metadata": {},
   "source": [
    "### N-Grams"
   ]
  },
  {
   "cell_type": "code",
   "execution_count": 26,
   "metadata": {},
   "outputs": [],
   "source": [
    "vectorizer_ngram = TfidfVectorizer(analyzer='word', ngram_range=(2,2), max_df=0.9)\n",
    "ngram = vectorizer_ngram.fit_transform(new_reviews['reviewText'])"
   ]
  },
  {
   "cell_type": "code",
   "execution_count": 27,
   "metadata": {},
   "outputs": [
    {
     "data": {
      "text/plain": [
       "<20000x474071 sparse matrix of type '<class 'numpy.float64'>'\n",
       "\twith 866263 stored elements in Compressed Sparse Row format>"
      ]
     },
     "execution_count": 27,
     "metadata": {},
     "output_type": "execute_result"
    }
   ],
   "source": [
    "ngram"
   ]
  },
  {
   "cell_type": "markdown",
   "metadata": {},
   "source": [
    "## Classicifation modeling"
   ]
  },
  {
   "cell_type": "markdown",
   "metadata": {},
   "source": [
    "### Logistic Regression"
   ]
  },
  {
   "cell_type": "code",
   "execution_count": 28,
   "metadata": {},
   "outputs": [],
   "source": [
    "def logistic(data):\n",
    "    x_train, x_test, y_train, y_test = train_test_split(data, \n",
    "                                                        new_reviews[\"sentiment\"], \n",
    "                                                        test_size=0.3, random_state=9)\n",
    "    logreg = LogisticRegression(random_state=1)\n",
    "    logreg.fit(x_train, y_train)\n",
    "    y_pred = logreg.predict(x_test)\n",
    "    \n",
    "    confusion = print(confusion_matrix(y_test, y_pred))\n",
    "    report = print(classification_report(y_test, y_pred))\n",
    "    \n",
    "    logreg_auc_roc = roc_auc_score(y_test, y_pred)\n",
    "    fpr, tpr, thresholds = roc_curve(y_test, logreg.predict_proba(x_test)[:,1])\n",
    "    plt.figure()\n",
    "    plt.plot(fpr, tpr, label='Logistic Regression (AUC = %0.2f)' % logreg_auc_roc)\n",
    "    plt.plot([0, 1], [0, 1],'r--')\n",
    "    plt.xlabel('False Positive Rate')\n",
    "    plt.ylabel('True Positive Rate')\n",
    "    plt.title('ROC Curve')\n",
    "    plt.legend(loc=\"lower right\")\n",
    "    \n",
    "    \n",
    "    return confusion, report, plt.show()"
   ]
  },
  {
   "cell_type": "markdown",
   "metadata": {},
   "source": [
    "### Bag of Words"
   ]
  },
  {
   "cell_type": "code",
   "execution_count": 29,
   "metadata": {},
   "outputs": [
    {
     "name": "stdout",
     "output_type": "stream",
     "text": [
      "[[2378  665]\n",
      " [ 639 2318]]\n",
      "              precision    recall  f1-score   support\n",
      "\n",
      "         0.0       0.79      0.78      0.78      3043\n",
      "         1.0       0.78      0.78      0.78      2957\n",
      "\n",
      "    accuracy                           0.78      6000\n",
      "   macro avg       0.78      0.78      0.78      6000\n",
      "weighted avg       0.78      0.78      0.78      6000\n",
      "\n"
     ]
    },
    {
     "data": {
      "image/png": "[encoded data removed]",
      "text/plain": [
       "<Figure size 432x288 with 1 Axes>"
      ]
     },
     "metadata": {
      "needs_background": "light"
     },
     "output_type": "display_data"
    },
    {
     "data": {
      "text/plain": [
       "(None, None, None)"
      ]
     },
     "execution_count": 29,
     "metadata": {},
     "output_type": "execute_result"
    }
   ],
   "source": [
    "logistic(bagofwords)"
   ]
  },
  {
   "cell_type": "markdown",
   "metadata": {},
   "source": [
    "### TFIDF"
   ]
  },
  {
   "cell_type": "code",
   "execution_count": 30,
   "metadata": {},
   "outputs": [
    {
     "name": "stdout",
     "output_type": "stream",
     "text": [
      "[[2513  530]\n",
      " [ 573 2384]]\n",
      "              precision    recall  f1-score   support\n",
      "\n",
      "         0.0       0.81      0.83      0.82      3043\n",
      "         1.0       0.82      0.81      0.81      2957\n",
      "\n",
      "    accuracy                           0.82      6000\n",
      "   macro avg       0.82      0.82      0.82      6000\n",
      "weighted avg       0.82      0.82      0.82      6000\n",
      "\n"
     ]
    },
    {
     "data": {
      "image/png": "[encoded data removed]",
      "text/plain": [
       "<Figure size 432x288 with 1 Axes>"
      ]
     },
     "metadata": {
      "needs_background": "light"
     },
     "output_type": "display_data"
    },
    {
     "data": {
      "text/plain": [
       "(None, None, None)"
      ]
     },
     "execution_count": 30,
     "metadata": {},
     "output_type": "execute_result"
    }
   ],
   "source": [
    "logistic(tfidf)"
   ]
  },
  {
   "cell_type": "markdown",
   "metadata": {},
   "source": [
    "### N-Grams"
   ]
  },
  {
   "cell_type": "code",
   "execution_count": 31,
   "metadata": {},
   "outputs": [
    {
     "name": "stdout",
     "output_type": "stream",
     "text": [
      "[[2441  602]\n",
      " [ 700 2257]]\n",
      "              precision    recall  f1-score   support\n",
      "\n",
      "         0.0       0.78      0.80      0.79      3043\n",
      "         1.0       0.79      0.76      0.78      2957\n",
      "\n",
      "    accuracy                           0.78      6000\n",
      "   macro avg       0.78      0.78      0.78      6000\n",
      "weighted avg       0.78      0.78      0.78      6000\n",
      "\n"
     ]
    },
    {
     "data": {
      "image/png": "[encoded data removed]",
      "text/plain": [
       "<Figure size 432x288 with 1 Axes>"
      ]
     },
     "metadata": {
      "needs_background": "light"
     },
     "output_type": "display_data"
    },
    {
     "data": {
      "text/plain": [
       "(None, None, None)"
      ]
     },
     "execution_count": 31,
     "metadata": {},
     "output_type": "execute_result"
    }
   ],
   "source": [
    "logistic(ngram)"
   ]
  },
  {
   "cell_type": "markdown",
   "metadata": {},
   "source": [
    "### Logistic Regression using Grid Search"
   ]
  },
  {
   "cell_type": "code",
   "execution_count": 32,
   "metadata": {},
   "outputs": [],
   "source": [
    "def logisticCV(data, hyperparameters):\n",
    "    x_train, x_test, y_train, y_test = train_test_split(data, \n",
    "                                                        new_reviews[\"sentiment\"], \n",
    "                                                        test_size=0.3, random_state=9)\n",
    "    \n",
    "    logreg = GridSearchCV(LogisticRegression(), hyperparameters, cv=2, refit=True)\n",
    "    logreg.fit(x_train, y_train)\n",
    "    y_pred = logreg.predict(x_test)\n",
    "    \n",
    "    confusion = print(confusion_matrix(y_test, y_pred))\n",
    "    report = print(classification_report(y_test, y_pred))\n",
    "    bestparams = logreg.best_params_\n",
    "    \n",
    "    logreg_auc_roc = roc_auc_score(y_test, y_pred)\n",
    "    fpr, tpr, thresholds = roc_curve(y_test, logreg.predict_proba(x_test)[:,1])\n",
    "    plt.figure()\n",
    "    plt.plot(fpr, tpr, label='Logistic Regression (AUC = %0.2f)' % logreg_auc_roc)\n",
    "    plt.plot([0, 1], [0, 1],'r--')\n",
    "    plt.xlabel('False Positive Rate')\n",
    "    plt.ylabel('True Positive Rate')\n",
    "    plt.title('ROC Curve')\n",
    "    plt.legend(loc=\"lower right\")\n",
    "    \n",
    "    \n",
    "    return bestparams, confusion, report, plt.show()"
   ]
  },
  {
   "cell_type": "code",
   "execution_count": 33,
   "metadata": {},
   "outputs": [],
   "source": [
    "hyperparas = {'C': np.logspace(-2, 4, 10)}"
   ]
  },
  {
   "cell_type": "markdown",
   "metadata": {},
   "source": [
    "### Bag of words"
   ]
  },
  {
   "cell_type": "code",
   "execution_count": 34,
   "metadata": {},
   "outputs": [
    {
     "name": "stdout",
     "output_type": "stream",
     "text": [
      "[[2367  676]\n",
      " [ 634 2323]]\n",
      "              precision    recall  f1-score   support\n",
      "\n",
      "         0.0       0.79      0.78      0.78      3043\n",
      "         1.0       0.77      0.79      0.78      2957\n",
      "\n",
      "    accuracy                           0.78      6000\n",
      "   macro avg       0.78      0.78      0.78      6000\n",
      "weighted avg       0.78      0.78      0.78      6000\n",
      "\n"
     ]
    },
    {
     "data": {
      "image/png": "[encoded data removed]",
      "text/plain": [
       "<Figure size 432x288 with 1 Axes>"
      ]
     },
     "metadata": {
      "needs_background": "light"
     },
     "output_type": "display_data"
    },
    {
     "data": {
      "text/plain": [
       "({'C': 0.046415888336127774}, None, None, None)"
      ]
     },
     "execution_count": 34,
     "metadata": {},
     "output_type": "execute_result"
    }
   ],
   "source": [
    "logisticCV(bagofwords, hyperparas)"
   ]
  },
  {
   "cell_type": "markdown",
   "metadata": {},
   "source": [
    "### TF-IDF"
   ]
  },
  {
   "cell_type": "code",
   "execution_count": 35,
   "metadata": {
    "scrolled": true
   },
   "outputs": [
    {
     "name": "stderr",
     "output_type": "stream",
     "text": [
      "/Users/nandinibasu/opt/anaconda3/lib/python3.7/site-packages/sklearn/linear_model/_logistic.py:940: ConvergenceWarning: lbfgs failed to converge (status=1):\n",
      "STOP: TOTAL NO. of ITERATIONS REACHED LIMIT.\n",
      "\n",
      "Increase the number of iterations (max_iter) or scale the data as shown in:\n",
      "    https://scikit-learn.org/stable/modules/preprocessing.html\n",
      "Please also refer to the documentation for alternative solver options:\n",
      "    https://scikit-learn.org/stable/modules/linear_model.html#logistic-regression\n",
      "  extra_warning_msg=_LOGISTIC_SOLVER_CONVERGENCE_MSG)\n",
      "/Users/nandinibasu/opt/anaconda3/lib/python3.7/site-packages/sklearn/linear_model/_logistic.py:940: ConvergenceWarning: lbfgs failed to converge (status=1):\n",
      "STOP: TOTAL NO. of ITERATIONS REACHED LIMIT.\n",
      "\n",
      "Increase the number of iterations (max_iter) or scale the data as shown in:\n",
      "    https://scikit-learn.org/stable/modules/preprocessing.html\n",
      "Please also refer to the documentation for alternative solver options:\n",
      "    https://scikit-learn.org/stable/modules/linear_model.html#logistic-regression\n",
      "  extra_warning_msg=_LOGISTIC_SOLVER_CONVERGENCE_MSG)\n",
      "/Users/nandinibasu/opt/anaconda3/lib/python3.7/site-packages/sklearn/linear_model/_logistic.py:940: ConvergenceWarning: lbfgs failed to converge (status=1):\n",
      "STOP: TOTAL NO. of ITERATIONS REACHED LIMIT.\n",
      "\n",
      "Increase the number of iterations (max_iter) or scale the data as shown in:\n",
      "    https://scikit-learn.org/stable/modules/preprocessing.html\n",
      "Please also refer to the documentation for alternative solver options:\n",
      "    https://scikit-learn.org/stable/modules/linear_model.html#logistic-regression\n",
      "  extra_warning_msg=_LOGISTIC_SOLVER_CONVERGENCE_MSG)\n",
      "/Users/nandinibasu/opt/anaconda3/lib/python3.7/site-packages/sklearn/linear_model/_logistic.py:940: ConvergenceWarning: lbfgs failed to converge (status=1):\n",
      "STOP: TOTAL NO. of ITERATIONS REACHED LIMIT.\n",
      "\n",
      "Increase the number of iterations (max_iter) or scale the data as shown in:\n",
      "    https://scikit-learn.org/stable/modules/preprocessing.html\n",
      "Please also refer to the documentation for alternative solver options:\n",
      "    https://scikit-learn.org/stable/modules/linear_model.html#logistic-regression\n",
      "  extra_warning_msg=_LOGISTIC_SOLVER_CONVERGENCE_MSG)\n",
      "/Users/nandinibasu/opt/anaconda3/lib/python3.7/site-packages/sklearn/linear_model/_logistic.py:940: ConvergenceWarning: lbfgs failed to converge (status=1):\n",
      "STOP: TOTAL NO. of ITERATIONS REACHED LIMIT.\n",
      "\n",
      "Increase the number of iterations (max_iter) or scale the data as shown in:\n",
      "    https://scikit-learn.org/stable/modules/preprocessing.html\n",
      "Please also refer to the documentation for alternative solver options:\n",
      "    https://scikit-learn.org/stable/modules/linear_model.html#logistic-regression\n",
      "  extra_warning_msg=_LOGISTIC_SOLVER_CONVERGENCE_MSG)\n",
      "/Users/nandinibasu/opt/anaconda3/lib/python3.7/site-packages/sklearn/linear_model/_logistic.py:940: ConvergenceWarning: lbfgs failed to converge (status=1):\n",
      "STOP: TOTAL NO. of ITERATIONS REACHED LIMIT.\n",
      "\n",
      "Increase the number of iterations (max_iter) or scale the data as shown in:\n",
      "    https://scikit-learn.org/stable/modules/preprocessing.html\n",
      "Please also refer to the documentation for alternative solver options:\n",
      "    https://scikit-learn.org/stable/modules/linear_model.html#logistic-regression\n",
      "  extra_warning_msg=_LOGISTIC_SOLVER_CONVERGENCE_MSG)\n",
      "/Users/nandinibasu/opt/anaconda3/lib/python3.7/site-packages/sklearn/linear_model/_logistic.py:940: ConvergenceWarning: lbfgs failed to converge (status=1):\n",
      "STOP: TOTAL NO. of ITERATIONS REACHED LIMIT.\n",
      "\n",
      "Increase the number of iterations (max_iter) or scale the data as shown in:\n",
      "    https://scikit-learn.org/stable/modules/preprocessing.html\n",
      "Please also refer to the documentation for alternative solver options:\n",
      "    https://scikit-learn.org/stable/modules/linear_model.html#logistic-regression\n",
      "  extra_warning_msg=_LOGISTIC_SOLVER_CONVERGENCE_MSG)\n",
      "/Users/nandinibasu/opt/anaconda3/lib/python3.7/site-packages/sklearn/linear_model/_logistic.py:940: ConvergenceWarning: lbfgs failed to converge (status=1):\n",
      "STOP: TOTAL NO. of ITERATIONS REACHED LIMIT.\n",
      "\n",
      "Increase the number of iterations (max_iter) or scale the data as shown in:\n",
      "    https://scikit-learn.org/stable/modules/preprocessing.html\n",
      "Please also refer to the documentation for alternative solver options:\n",
      "    https://scikit-learn.org/stable/modules/linear_model.html#logistic-regression\n",
      "  extra_warning_msg=_LOGISTIC_SOLVER_CONVERGENCE_MSG)\n",
      "/Users/nandinibasu/opt/anaconda3/lib/python3.7/site-packages/sklearn/linear_model/_logistic.py:940: ConvergenceWarning: lbfgs failed to converge (status=1):\n",
      "STOP: TOTAL NO. of ITERATIONS REACHED LIMIT.\n",
      "\n",
      "Increase the number of iterations (max_iter) or scale the data as shown in:\n",
      "    https://scikit-learn.org/stable/modules/preprocessing.html\n",
      "Please also refer to the documentation for alternative solver options:\n",
      "    https://scikit-learn.org/stable/modules/linear_model.html#logistic-regression\n",
      "  extra_warning_msg=_LOGISTIC_SOLVER_CONVERGENCE_MSG)\n",
      "/Users/nandinibasu/opt/anaconda3/lib/python3.7/site-packages/sklearn/linear_model/_logistic.py:940: ConvergenceWarning: lbfgs failed to converge (status=1):\n",
      "STOP: TOTAL NO. of ITERATIONS REACHED LIMIT.\n",
      "\n",
      "Increase the number of iterations (max_iter) or scale the data as shown in:\n",
      "    https://scikit-learn.org/stable/modules/preprocessing.html\n",
      "Please also refer to the documentation for alternative solver options:\n",
      "    https://scikit-learn.org/stable/modules/linear_model.html#logistic-regression\n",
      "  extra_warning_msg=_LOGISTIC_SOLVER_CONVERGENCE_MSG)\n"
     ]
    },
    {
     "name": "stdout",
     "output_type": "stream",
     "text": [
      "[[2513  530]\n",
      " [ 573 2384]]\n",
      "              precision    recall  f1-score   support\n",
      "\n",
      "         0.0       0.81      0.83      0.82      3043\n",
      "         1.0       0.82      0.81      0.81      2957\n",
      "\n",
      "    accuracy                           0.82      6000\n",
      "   macro avg       0.82      0.82      0.82      6000\n",
      "weighted avg       0.82      0.82      0.82      6000\n",
      "\n"
     ]
    },
    {
     "data": {
      "image/png": "[encoded data removed]",
      "text/plain": [
       "<Figure size 432x288 with 1 Axes>"
      ]
     },
     "metadata": {
      "needs_background": "light"
     },
     "output_type": "display_data"
    },
    {
     "data": {
      "text/plain": [
       "({'C': 1.0}, None, None, None)"
      ]
     },
     "execution_count": 35,
     "metadata": {},
     "output_type": "execute_result"
    }
   ],
   "source": [
    "logisticCV(tfidf, hyperparas)"
   ]
  },
  {
   "cell_type": "markdown",
   "metadata": {},
   "source": [
    "### N-Grams"
   ]
  },
  {
   "cell_type": "code",
   "execution_count": 36,
   "metadata": {
    "scrolled": true
   },
   "outputs": [
    {
     "name": "stderr",
     "output_type": "stream",
     "text": [
      "/Users/nandinibasu/opt/anaconda3/lib/python3.7/site-packages/sklearn/linear_model/_logistic.py:940: ConvergenceWarning: lbfgs failed to converge (status=1):\n",
      "STOP: TOTAL NO. of ITERATIONS REACHED LIMIT.\n",
      "\n",
      "Increase the number of iterations (max_iter) or scale the data as shown in:\n",
      "    https://scikit-learn.org/stable/modules/preprocessing.html\n",
      "Please also refer to the documentation for alternative solver options:\n",
      "    https://scikit-learn.org/stable/modules/linear_model.html#logistic-regression\n",
      "  extra_warning_msg=_LOGISTIC_SOLVER_CONVERGENCE_MSG)\n",
      "/Users/nandinibasu/opt/anaconda3/lib/python3.7/site-packages/sklearn/linear_model/_logistic.py:940: ConvergenceWarning: lbfgs failed to converge (status=1):\n",
      "STOP: TOTAL NO. of ITERATIONS REACHED LIMIT.\n",
      "\n",
      "Increase the number of iterations (max_iter) or scale the data as shown in:\n",
      "    https://scikit-learn.org/stable/modules/preprocessing.html\n",
      "Please also refer to the documentation for alternative solver options:\n",
      "    https://scikit-learn.org/stable/modules/linear_model.html#logistic-regression\n",
      "  extra_warning_msg=_LOGISTIC_SOLVER_CONVERGENCE_MSG)\n",
      "/Users/nandinibasu/opt/anaconda3/lib/python3.7/site-packages/sklearn/linear_model/_logistic.py:940: ConvergenceWarning: lbfgs failed to converge (status=1):\n",
      "STOP: TOTAL NO. of ITERATIONS REACHED LIMIT.\n",
      "\n",
      "Increase the number of iterations (max_iter) or scale the data as shown in:\n",
      "    https://scikit-learn.org/stable/modules/preprocessing.html\n",
      "Please also refer to the documentation for alternative solver options:\n",
      "    https://scikit-learn.org/stable/modules/linear_model.html#logistic-regression\n",
      "  extra_warning_msg=_LOGISTIC_SOLVER_CONVERGENCE_MSG)\n",
      "/Users/nandinibasu/opt/anaconda3/lib/python3.7/site-packages/sklearn/linear_model/_logistic.py:940: ConvergenceWarning: lbfgs failed to converge (status=1):\n",
      "STOP: TOTAL NO. of ITERATIONS REACHED LIMIT.\n",
      "\n",
      "Increase the number of iterations (max_iter) or scale the data as shown in:\n",
      "    https://scikit-learn.org/stable/modules/preprocessing.html\n",
      "Please also refer to the documentation for alternative solver options:\n",
      "    https://scikit-learn.org/stable/modules/linear_model.html#logistic-regression\n",
      "  extra_warning_msg=_LOGISTIC_SOLVER_CONVERGENCE_MSG)\n",
      "/Users/nandinibasu/opt/anaconda3/lib/python3.7/site-packages/sklearn/linear_model/_logistic.py:940: ConvergenceWarning: lbfgs failed to converge (status=1):\n",
      "STOP: TOTAL NO. of ITERATIONS REACHED LIMIT.\n",
      "\n",
      "Increase the number of iterations (max_iter) or scale the data as shown in:\n",
      "    https://scikit-learn.org/stable/modules/preprocessing.html\n",
      "Please also refer to the documentation for alternative solver options:\n",
      "    https://scikit-learn.org/stable/modules/linear_model.html#logistic-regression\n",
      "  extra_warning_msg=_LOGISTIC_SOLVER_CONVERGENCE_MSG)\n"
     ]
    },
    {
     "name": "stdout",
     "output_type": "stream",
     "text": [
      "[[2482  561]\n",
      " [ 697 2260]]\n",
      "              precision    recall  f1-score   support\n",
      "\n",
      "         0.0       0.78      0.82      0.80      3043\n",
      "         1.0       0.80      0.76      0.78      2957\n",
      "\n",
      "    accuracy                           0.79      6000\n",
      "   macro avg       0.79      0.79      0.79      6000\n",
      "weighted avg       0.79      0.79      0.79      6000\n",
      "\n"
     ]
    },
    {
     "name": "stderr",
     "output_type": "stream",
     "text": [
      "/Users/nandinibasu/opt/anaconda3/lib/python3.7/site-packages/sklearn/linear_model/_logistic.py:940: ConvergenceWarning: lbfgs failed to converge (status=1):\n",
      "STOP: TOTAL NO. of ITERATIONS REACHED LIMIT.\n",
      "\n",
      "Increase the number of iterations (max_iter) or scale the data as shown in:\n",
      "    https://scikit-learn.org/stable/modules/preprocessing.html\n",
      "Please also refer to the documentation for alternative solver options:\n",
      "    https://scikit-learn.org/stable/modules/linear_model.html#logistic-regression\n",
      "  extra_warning_msg=_LOGISTIC_SOLVER_CONVERGENCE_MSG)\n"
     ]
    },
    {
     "data": {
      "image/png": "[encoded data removed]",
      "text/plain": [
       "<Figure size 432x288 with 1 Axes>"
      ]
     },
     "metadata": {
      "needs_background": "light"
     },
     "output_type": "display_data"
    },
    {
     "data": {
      "text/plain": [
       "({'C': 100.0}, None, None, None)"
      ]
     },
     "execution_count": 36,
     "metadata": {},
     "output_type": "execute_result"
    }
   ],
   "source": [
    "logisticCV(ngram, hyperparas)"
   ]
  },
  {
   "cell_type": "markdown",
   "metadata": {},
   "source": [
    "### Random Forest Classifier"
   ]
  },
  {
   "cell_type": "code",
   "execution_count": 37,
   "metadata": {},
   "outputs": [],
   "source": [
    "def rfc(data):\n",
    "    x_train, x_test, y_train, y_test = train_test_split(data, \n",
    "                                                        new_reviews[\"sentiment\"], \n",
    "                                                        test_size=0.3, random_state=9)\n",
    "    rfc=RandomForestClassifier(random_state=42)\n",
    "    rfc.fit(x_train, y_train)\n",
    "    y_pred = rfc.predict(x_test)\n",
    "    \n",
    "    confusion = print(confusion_matrix(y_test, y_pred))\n",
    "    report = print(classification_report(y_test, y_pred))\n",
    "    \n",
    "    rfc_auc_roc = roc_auc_score(y_test, y_pred)\n",
    "    fpr, tpr, thresholds = roc_curve(y_test, rfc.predict_proba(x_test)[:,1])\n",
    "    plt.figure()\n",
    "    plt.plot(fpr, tpr, label='RFC (AUC = %0.2f)' % rfc_auc_roc)\n",
    "    plt.plot([0, 1], [0, 1],'r--')\n",
    "    plt.xlabel('False Positive Rate')\n",
    "    plt.ylabel('True Positive Rate')\n",
    "    plt.title('ROC Curve')\n",
    "    plt.legend(loc=\"lower right\")\n",
    "    \n",
    "    \n",
    "    return confusion, report, plt.show()"
   ]
  },
  {
   "cell_type": "markdown",
   "metadata": {},
   "source": [
    "### Bag or words"
   ]
  },
  {
   "cell_type": "code",
   "execution_count": 38,
   "metadata": {},
   "outputs": [
    {
     "name": "stdout",
     "output_type": "stream",
     "text": [
      "[[2383  660]\n",
      " [ 733 2224]]\n",
      "              precision    recall  f1-score   support\n",
      "\n",
      "         0.0       0.76      0.78      0.77      3043\n",
      "         1.0       0.77      0.75      0.76      2957\n",
      "\n",
      "    accuracy                           0.77      6000\n",
      "   macro avg       0.77      0.77      0.77      6000\n",
      "weighted avg       0.77      0.77      0.77      6000\n",
      "\n"
     ]
    },
    {
     "data": {
      "image/png": "[encoded data removed]",
      "text/plain": [
       "<Figure size 432x288 with 1 Axes>"
      ]
     },
     "metadata": {
      "needs_background": "light"
     },
     "output_type": "display_data"
    },
    {
     "data": {
      "text/plain": [
       "(None, None, None)"
      ]
     },
     "execution_count": 38,
     "metadata": {},
     "output_type": "execute_result"
    }
   ],
   "source": [
    "rfc(bagofwords)"
   ]
  },
  {
   "cell_type": "markdown",
   "metadata": {},
   "source": [
    "### TF-IDF"
   ]
  },
  {
   "cell_type": "code",
   "execution_count": 39,
   "metadata": {},
   "outputs": [
    {
     "name": "stdout",
     "output_type": "stream",
     "text": [
      "[[2524  519]\n",
      " [ 670 2287]]\n",
      "              precision    recall  f1-score   support\n",
      "\n",
      "         0.0       0.79      0.83      0.81      3043\n",
      "         1.0       0.82      0.77      0.79      2957\n",
      "\n",
      "    accuracy                           0.80      6000\n",
      "   macro avg       0.80      0.80      0.80      6000\n",
      "weighted avg       0.80      0.80      0.80      6000\n",
      "\n"
     ]
    },
    {
     "data": {
      "image/png": "[encoded data removed]",
      "text/plain": [
       "<Figure size 432x288 with 1 Axes>"
      ]
     },
     "metadata": {
      "needs_background": "light"
     },
     "output_type": "display_data"
    },
    {
     "data": {
      "text/plain": [
       "(None, None, None)"
      ]
     },
     "execution_count": 39,
     "metadata": {},
     "output_type": "execute_result"
    }
   ],
   "source": [
    "rfc(tfidf)"
   ]
  },
  {
   "cell_type": "markdown",
   "metadata": {},
   "source": [
    "### N-grams"
   ]
  },
  {
   "cell_type": "code",
   "execution_count": 40,
   "metadata": {},
   "outputs": [
    {
     "name": "stdout",
     "output_type": "stream",
     "text": [
      "[[2609  434]\n",
      " [1118 1839]]\n",
      "              precision    recall  f1-score   support\n",
      "\n",
      "         0.0       0.70      0.86      0.77      3043\n",
      "         1.0       0.81      0.62      0.70      2957\n",
      "\n",
      "    accuracy                           0.74      6000\n",
      "   macro avg       0.75      0.74      0.74      6000\n",
      "weighted avg       0.75      0.74      0.74      6000\n",
      "\n"
     ]
    },
    {
     "data": {
      "image/png": "[encoded data removed]",
      "text/plain": [
       "<Figure size 432x288 with 1 Axes>"
      ]
     },
     "metadata": {
      "needs_background": "light"
     },
     "output_type": "display_data"
    },
    {
     "data": {
      "text/plain": [
       "(None, None, None)"
      ]
     },
     "execution_count": 40,
     "metadata": {},
     "output_type": "execute_result"
    }
   ],
   "source": [
    "rfc(ngram)"
   ]
  },
  {
   "cell_type": "markdown",
   "metadata": {},
   "source": [
    "### Random forest classifier with grid search"
   ]
  },
  {
   "cell_type": "code",
   "execution_count": 41,
   "metadata": {},
   "outputs": [],
   "source": [
    "param_grid = {\n",
    "    'bootstrap': [True],\n",
    "    'max_features': ['auto', 'sqrt', 'log2'],\n",
    "    'n_estimators': [100, 200, 300]\n",
    "}"
   ]
  },
  {
   "cell_type": "code",
   "execution_count": 42,
   "metadata": {},
   "outputs": [],
   "source": [
    "def rfcCV(data, param):\n",
    "    x_train, x_test, y_train, y_test = train_test_split(data, \n",
    "                                                        new_reviews[\"sentiment\"], \n",
    "                                                        test_size=0.3, random_state=9)\n",
    "    rfc_cv = GridSearchCV(RandomForestClassifier(), param, cv= 2, refit=True)\n",
    "    rfc_cv.fit(x_train, y_train)\n",
    "    y_pred = rfc_cv.predict(x_test)\n",
    "    \n",
    "    confusion = print(confusion_matrix(y_test, y_pred))\n",
    "    report = print(classification_report(y_test, y_pred))\n",
    "    bestparams = rfc_cv.best_params_\n",
    "    \n",
    "    rfc_cv_auc_roc = roc_auc_score(y_test, y_pred)\n",
    "    fpr, tpr, thresholds = roc_curve(y_test, rfc_cv.predict_proba(x_test)[:,1])\n",
    "    plt.figure()\n",
    "    plt.plot(fpr, tpr, label='RFC CV (AUC = %0.2f)' % rfc_cv_auc_roc)\n",
    "    plt.plot([0, 1], [0, 1],'r--')\n",
    "    plt.xlabel('False Positive Rate')\n",
    "    plt.ylabel('True Positive Rate')\n",
    "    plt.title('ROC Curve')\n",
    "    plt.legend(loc=\"lower right\")\n",
    "    \n",
    "    \n",
    "    return bestparams, confusion, report, plt.show()"
   ]
  },
  {
   "cell_type": "markdown",
   "metadata": {},
   "source": [
    "### Bag of words"
   ]
  },
  {
   "cell_type": "code",
   "execution_count": 43,
   "metadata": {},
   "outputs": [
    {
     "name": "stdout",
     "output_type": "stream",
     "text": [
      "[[2409  634]\n",
      " [ 698 2259]]\n",
      "              precision    recall  f1-score   support\n",
      "\n",
      "         0.0       0.78      0.79      0.78      3043\n",
      "         1.0       0.78      0.76      0.77      2957\n",
      "\n",
      "    accuracy                           0.78      6000\n",
      "   macro avg       0.78      0.78      0.78      6000\n",
      "weighted avg       0.78      0.78      0.78      6000\n",
      "\n"
     ]
    },
    {
     "data": {
      "image/png": "[encoded data removed]",
      "text/plain": [
       "<Figure size 432x288 with 1 Axes>"
      ]
     },
     "metadata": {
      "needs_background": "light"
     },
     "output_type": "display_data"
    },
    {
     "data": {
      "text/plain": [
       "({'bootstrap': True, 'max_features': 'log2', 'n_estimators': 300},\n",
       " None,\n",
       " None,\n",
       " None)"
      ]
     },
     "execution_count": 43,
     "metadata": {},
     "output_type": "execute_result"
    }
   ],
   "source": [
    "rfcCV(bagofwords, param_grid)"
   ]
  },
  {
   "cell_type": "markdown",
   "metadata": {},
   "source": [
    "### TD-IDF"
   ]
  },
  {
   "cell_type": "code",
   "execution_count": 44,
   "metadata": {},
   "outputs": [
    {
     "name": "stdout",
     "output_type": "stream",
     "text": [
      "[[2518  525]\n",
      " [ 654 2303]]\n",
      "              precision    recall  f1-score   support\n",
      "\n",
      "         0.0       0.79      0.83      0.81      3043\n",
      "         1.0       0.81      0.78      0.80      2957\n",
      "\n",
      "    accuracy                           0.80      6000\n",
      "   macro avg       0.80      0.80      0.80      6000\n",
      "weighted avg       0.80      0.80      0.80      6000\n",
      "\n"
     ]
    },
    {
     "data": {
      "image/png": "[encoded data removed]",
      "text/plain": [
       "<Figure size 432x288 with 1 Axes>"
      ]
     },
     "metadata": {
      "needs_background": "light"
     },
     "output_type": "display_data"
    },
    {
     "data": {
      "text/plain": [
       "({'bootstrap': True, 'max_features': 'auto', 'n_estimators': 300},\n",
       " None,\n",
       " None,\n",
       " None)"
      ]
     },
     "execution_count": 44,
     "metadata": {},
     "output_type": "execute_result"
    }
   ],
   "source": [
    "rfcCV(tfidf, param_grid)"
   ]
  },
  {
   "cell_type": "markdown",
   "metadata": {},
   "source": [
    "### N-grams"
   ]
  },
  {
   "cell_type": "code",
   "execution_count": 45,
   "metadata": {},
   "outputs": [
    {
     "name": "stdout",
     "output_type": "stream",
     "text": [
      "[[2598  445]\n",
      " [1125 1832]]\n",
      "              precision    recall  f1-score   support\n",
      "\n",
      "         0.0       0.70      0.85      0.77      3043\n",
      "         1.0       0.80      0.62      0.70      2957\n",
      "\n",
      "    accuracy                           0.74      6000\n",
      "   macro avg       0.75      0.74      0.73      6000\n",
      "weighted avg       0.75      0.74      0.73      6000\n",
      "\n"
     ]
    },
    {
     "data": {
      "image/png": "[encoded data removed]",
      "text/plain": [
       "<Figure size 432x288 with 1 Axes>"
      ]
     },
     "metadata": {
      "needs_background": "light"
     },
     "output_type": "display_data"
    },
    {
     "data": {
      "text/plain": [
       "({'bootstrap': True, 'max_features': 'sqrt', 'n_estimators': 200},\n",
       " None,\n",
       " None,\n",
       " None)"
      ]
     },
     "execution_count": 45,
     "metadata": {},
     "output_type": "execute_result"
    }
   ],
   "source": [
    "rfcCV(ngram, param_grid)"
   ]
  },
  {
   "cell_type": "markdown",
   "metadata": {},
   "source": [
    "### Support Vector Machines"
   ]
  },
  {
   "cell_type": "code",
   "execution_count": 46,
   "metadata": {},
   "outputs": [],
   "source": [
    "def svc(data):\n",
    "    x_train, x_test, y_train, y_test = train_test_split(data, \n",
    "                                                        new_reviews[\"sentiment\"], \n",
    "                                                        test_size=0.3, random_state=9)\n",
    "    svc = SVC(probability=True)\n",
    "    svc.fit(x_train, y_train)\n",
    "    y_pred = svc.predict(x_test)\n",
    "    \n",
    "    confusion = print(confusion_matrix(y_test, y_pred))\n",
    "    report = print(classification_report(y_test, y_pred))\n",
    "    \n",
    "    svm_roc_auc = roc_auc_score(y_test, y_pred)\n",
    "    fpr, tpr, thresholds = roc_curve(y_test, svc.predict_proba(x_test)[:,1])\n",
    "    plt.figure()\n",
    "    plt.plot(fpr, tpr, label='SVM (area = %0.2f)' % svm_roc_auc)\n",
    "    plt.plot([0, 1], [0, 1],'r--')\n",
    "    plt.xlabel('False Positive Rate')\n",
    "    plt.ylabel('True Positive Rate')\n",
    "    plt.title('ROC Curve')\n",
    "    plt.legend(loc=\"lower right\")\n",
    "    plt.show()\n",
    "    \n",
    "    \n",
    "    return confusion, report, plt.show()"
   ]
  },
  {
   "cell_type": "markdown",
   "metadata": {},
   "source": [
    "### Bag of words"
   ]
  },
  {
   "cell_type": "code",
   "execution_count": 47,
   "metadata": {},
   "outputs": [
    {
     "name": "stdout",
     "output_type": "stream",
     "text": [
      "[[2449  594]\n",
      " [ 661 2296]]\n",
      "              precision    recall  f1-score   support\n",
      "\n",
      "         0.0       0.79      0.80      0.80      3043\n",
      "         1.0       0.79      0.78      0.79      2957\n",
      "\n",
      "    accuracy                           0.79      6000\n",
      "   macro avg       0.79      0.79      0.79      6000\n",
      "weighted avg       0.79      0.79      0.79      6000\n",
      "\n"
     ]
    },
    {
     "data": {
      "image/png": "[encoded data removed]",
      "text/plain": [
       "<Figure size 432x288 with 1 Axes>"
      ]
     },
     "metadata": {
      "needs_background": "light"
     },
     "output_type": "display_data"
    },
    {
     "data": {
      "text/plain": [
       "(None, None, None)"
      ]
     },
     "execution_count": 47,
     "metadata": {},
     "output_type": "execute_result"
    }
   ],
   "source": [
    "svc(bagofwords)"
   ]
  },
  {
   "cell_type": "markdown",
   "metadata": {},
   "source": [
    "### TF-IDF"
   ]
  },
  {
   "cell_type": "code",
   "execution_count": 48,
   "metadata": {},
   "outputs": [
    {
     "name": "stdout",
     "output_type": "stream",
     "text": [
      "[[2530  513]\n",
      " [ 564 2393]]\n",
      "              precision    recall  f1-score   support\n",
      "\n",
      "         0.0       0.82      0.83      0.82      3043\n",
      "         1.0       0.82      0.81      0.82      2957\n",
      "\n",
      "    accuracy                           0.82      6000\n",
      "   macro avg       0.82      0.82      0.82      6000\n",
      "weighted avg       0.82      0.82      0.82      6000\n",
      "\n"
     ]
    },
    {
     "data": {
      "image/png": "[encoded data removed]",
      "text/plain": [
       "<Figure size 432x288 with 1 Axes>"
      ]
     },
     "metadata": {
      "needs_background": "light"
     },
     "output_type": "display_data"
    },
    {
     "data": {
      "text/plain": [
       "(None, None, None)"
      ]
     },
     "execution_count": 48,
     "metadata": {},
     "output_type": "execute_result"
    }
   ],
   "source": [
    "svc(tfidf)"
   ]
  },
  {
   "cell_type": "markdown",
   "metadata": {},
   "source": [
    "### N-Grams"
   ]
  },
  {
   "cell_type": "code",
   "execution_count": 49,
   "metadata": {},
   "outputs": [
    {
     "name": "stdout",
     "output_type": "stream",
     "text": [
      "[[2483  560]\n",
      " [ 757 2200]]\n",
      "              precision    recall  f1-score   support\n",
      "\n",
      "         0.0       0.77      0.82      0.79      3043\n",
      "         1.0       0.80      0.74      0.77      2957\n",
      "\n",
      "    accuracy                           0.78      6000\n",
      "   macro avg       0.78      0.78      0.78      6000\n",
      "weighted avg       0.78      0.78      0.78      6000\n",
      "\n"
     ]
    },
    {
     "data": {
      "image/png": "[encoded data removed]",
      "text/plain": [
       "<Figure size 432x288 with 1 Axes>"
      ]
     },
     "metadata": {
      "needs_background": "light"
     },
     "output_type": "display_data"
    },
    {
     "data": {
      "text/plain": [
       "(None, None, None)"
      ]
     },
     "execution_count": 49,
     "metadata": {},
     "output_type": "execute_result"
    }
   ],
   "source": [
    "svc(ngram)"
   ]
  },
  {
   "cell_type": "markdown",
   "metadata": {},
   "source": [
    "### Support Vector Machines with Grid Search"
   ]
  },
  {
   "cell_type": "code",
   "execution_count": 50,
   "metadata": {},
   "outputs": [],
   "source": [
    "param_grid = {'C': [0.1, 1, 10],  \n",
    "              'gamma': [1, 0.1, 0.01], \n",
    "              'kernel': ['rbf']} "
   ]
  },
  {
   "cell_type": "code",
   "execution_count": 51,
   "metadata": {},
   "outputs": [],
   "source": [
    "def svcCV(data, param):\n",
    "    x_train, x_test, y_train, y_test = train_test_split(data, \n",
    "                                                        new_reviews[\"sentiment\"], \n",
    "                                                        test_size=0.3, random_state=9)\n",
    "    \n",
    "    svc_cv = GridSearchCV(SVC(probability=True), param, cv=2, refit=True)\n",
    "    svc_cv.fit(x_train, y_train)\n",
    "    y_pred = svc_cv.predict(x_test)\n",
    "    \n",
    "    confusion = print(confusion_matrix(y_test, y_pred))\n",
    "    report = print(classification_report(y_test, y_pred))\n",
    "    bestparams = svc_cv.best_params_\n",
    "    \n",
    "    svc_cv_auc_roc = roc_auc_score(y_test, y_pred)\n",
    "    fpr, tpr, thresholds = roc_curve(y_test, svc_cv.predict_proba(x_test)[:,1])\n",
    "    plt.figure()\n",
    "    plt.plot(fpr, tpr, label='SVM CV(AUC = %0.2f)' % svc_cv_auc_roc)\n",
    "    plt.plot([0, 1], [0, 1],'r--')\n",
    "    plt.xlabel('False Positive Rate')\n",
    "    plt.ylabel('True Positive Rate')\n",
    "    plt.title('ROC Curve')\n",
    "    plt.legend(loc=\"lower right\")\n",
    "    \n",
    "    \n",
    "    return bestparams, confusion, report, plt.show()"
   ]
  },
  {
   "cell_type": "markdown",
   "metadata": {},
   "source": [
    "### Bag of words"
   ]
  },
  {
   "cell_type": "code",
   "execution_count": 52,
   "metadata": {},
   "outputs": [
    {
     "name": "stdout",
     "output_type": "stream",
     "text": [
      "[[2399  644]\n",
      " [ 624 2333]]\n",
      "              precision    recall  f1-score   support\n",
      "\n",
      "         0.0       0.79      0.79      0.79      3043\n",
      "         1.0       0.78      0.79      0.79      2957\n",
      "\n",
      "    accuracy                           0.79      6000\n",
      "   macro avg       0.79      0.79      0.79      6000\n",
      "weighted avg       0.79      0.79      0.79      6000\n",
      "\n"
     ]
    },
    {
     "data": {
      "image/png": "[encoded data removed]",
      "text/plain": [
       "<Figure size 432x288 with 1 Axes>"
      ]
     },
     "metadata": {
      "needs_background": "light"
     },
     "output_type": "display_data"
    },
    {
     "data": {
      "text/plain": [
       "({'C': 10, 'gamma': 0.01, 'kernel': 'rbf'}, None, None, None)"
      ]
     },
     "execution_count": 52,
     "metadata": {},
     "output_type": "execute_result"
    }
   ],
   "source": [
    "svcCV(bagofwords, param_grid)"
   ]
  },
  {
   "cell_type": "markdown",
   "metadata": {},
   "source": [
    "### TF-IDF"
   ]
  },
  {
   "cell_type": "code",
   "execution_count": 53,
   "metadata": {},
   "outputs": [
    {
     "name": "stdout",
     "output_type": "stream",
     "text": [
      "[[2531  512]\n",
      " [ 565 2392]]\n",
      "              precision    recall  f1-score   support\n",
      "\n",
      "         0.0       0.82      0.83      0.82      3043\n",
      "         1.0       0.82      0.81      0.82      2957\n",
      "\n",
      "    accuracy                           0.82      6000\n",
      "   macro avg       0.82      0.82      0.82      6000\n",
      "weighted avg       0.82      0.82      0.82      6000\n",
      "\n"
     ]
    },
    {
     "data": {
      "image/png": "[encoded data removed]",
      "text/plain": [
       "<Figure size 432x288 with 1 Axes>"
      ]
     },
     "metadata": {
      "needs_background": "light"
     },
     "output_type": "display_data"
    },
    {
     "data": {
      "text/plain": [
       "({'C': 1, 'gamma': 1, 'kernel': 'rbf'}, None, None, None)"
      ]
     },
     "execution_count": 53,
     "metadata": {},
     "output_type": "execute_result"
    }
   ],
   "source": [
    "svcCV(tfidf, param_grid)"
   ]
  },
  {
   "cell_type": "markdown",
   "metadata": {},
   "source": [
    "### N-Grams"
   ]
  },
  {
   "cell_type": "code",
   "execution_count": 54,
   "metadata": {},
   "outputs": [
    {
     "name": "stdout",
     "output_type": "stream",
     "text": [
      "[[2438  605]\n",
      " [ 659 2298]]\n",
      "              precision    recall  f1-score   support\n",
      "\n",
      "         0.0       0.79      0.80      0.79      3043\n",
      "         1.0       0.79      0.78      0.78      2957\n",
      "\n",
      "    accuracy                           0.79      6000\n",
      "   macro avg       0.79      0.79      0.79      6000\n",
      "weighted avg       0.79      0.79      0.79      6000\n",
      "\n"
     ]
    },
    {
     "data": {
      "image/png": "[encoded data removed]",
      "text/plain": [
       "<Figure size 432x288 with 1 Axes>"
      ]
     },
     "metadata": {
      "needs_background": "light"
     },
     "output_type": "display_data"
    },
    {
     "data": {
      "text/plain": [
       "({'C': 10, 'gamma': 0.1, 'kernel': 'rbf'}, None, None, None)"
      ]
     },
     "execution_count": 54,
     "metadata": {},
     "output_type": "execute_result"
    }
   ],
   "source": [
    "svcCV(ngram, param_grid)"
   ]
  }
 ],
 "metadata": {
  "kernelspec": {
   "display_name": "Python 3",
   "language": "python",
   "name": "python3"
  },
  "language_info": {
   "codemirror_mode": {
    "name": "ipython",
    "version": 3
   },
   "file_extension": ".py",
   "mimetype": "text/x-python",
   "name": "python",
   "nbconvert_exporter": "python",
   "pygments_lexer": "ipython3",
   "version": "3.7.4"
  }
 },
 "nbformat": 4,
 "nbformat_minor": 2
}
